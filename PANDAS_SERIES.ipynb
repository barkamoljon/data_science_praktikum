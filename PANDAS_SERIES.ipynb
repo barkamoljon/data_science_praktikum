{
  "cells": [
    {
      "cell_type": "markdown",
      "metadata": {
        "id": "view-in-github",
        "colab_type": "text"
      },
      "source": [
        "<a href=\"https://colab.research.google.com/github/barkamoljon/data_science_praktikum/blob/main/PANDAS_SERIES.ipynb\" target=\"_parent\"><img src=\"https://colab.research.google.com/assets/colab-badge.svg\" alt=\"Open In Colab\"/></a>"
      ]
    },
    {
      "cell_type": "code",
      "execution_count": null,
      "id": "bbeecc3e",
      "metadata": {
        "colab": {
          "base_uri": "https://localhost:8080/"
        },
        "id": "bbeecc3e",
        "outputId": "01b40208-16a6-48ac-e63e-c18ff39462c9"
      },
      "outputs": [
        {
          "output_type": "stream",
          "name": "stdout",
          "text": [
            "\u001b[?25l\r\u001b[K     |████▊                           | 10 kB 26.9 MB/s eta 0:00:01\r\u001b[K     |█████████▌                      | 20 kB 32.5 MB/s eta 0:00:01\r\u001b[K     |██████████████▎                 | 30 kB 28.9 MB/s eta 0:00:01\r\u001b[K     |███████████████████             | 40 kB 19.8 MB/s eta 0:00:01\r\u001b[K     |███████████████████████▉        | 51 kB 8.2 MB/s eta 0:00:01\r\u001b[K     |████████████████████████████▋   | 61 kB 9.6 MB/s eta 0:00:01\r\u001b[K     |████████████████████████████████| 68 kB 3.3 MB/s \n",
            "\u001b[?25h  Building wheel for uuid (setup.py) ... \u001b[?25l\u001b[?25hdone\n"
          ]
        }
      ],
      "source": [
        "# Jovian Commit Essentials\n",
        "# Please retain and execute this cell without modifying the contents for `jovian.commit` to work\n",
        "!pip install jovian --upgrade -q\n",
        "import jovian\n",
        "jovian.set_project('03-pandas-01-dars-series')\n",
        "jovian.set_colab_id('1-TSX346XX-NoHGpop4YHh7N5-KEpUeB5')"
      ]
    },
    {
      "cell_type": "markdown",
      "id": "034e315b",
      "metadata": {
        "id": "034e315b"
      },
      "source": [
        "![Imgur](https://i.imgur.com/5pXzCIu.png)\n",
        "\n",
        "# Data Science va Sun'iy Intellekt Praktikum\n",
        "\n",
        "## Ma'lumotlar tahlili. Pandas kutubxonasi.\n",
        "\n",
        "### 2.2 Pandas kutubxonasi bilan tanishuv\n",
        "\n",
        "`pandas` kutubxonasi ma'lumotlar muhandisining eng muhim ish quroli hisoblanadi. Data Science loyihalar ustida ishlar ekanmiz, 90% amallar aynan pandas yordamida amalga oshiriladi. `pandas` o'zining maxsus ma'lumotlar tuzilmalariga ega va bu tuzilmalar ma'lumotlarga ishlov berish, tozalash va boshqa amllarni bir necha barobar osonlashtiradi.\n",
        "\n",
        "Avvalgi bo'limda ko'rilgan `numpy` kutubxonasidan farqli ravishda, `pandas` kutubxonasi faqatgina sonlardan iborat massivlar bilan emas, balki turli ko'rinishdagi ma'lumotlardan iborat jadvallar bilan ishlashga moslashgan."
      ]
    },
    {
      "cell_type": "markdown",
      "id": "8211f25f",
      "metadata": {
        "id": "8211f25f"
      },
      "source": [
        "### Kutubxonani chaqiramiz\n",
        "\n",
        "Oson bo'lishi uchun `pandas` kutubxonasini `pd` deb chaqirib olish urf bo'lgan."
      ]
    },
    {
      "cell_type": "code",
      "execution_count": null,
      "id": "5b0ccbd9",
      "metadata": {
        "id": "5b0ccbd9"
      },
      "outputs": [],
      "source": [
        "import pandas as pd\n",
        "import numpy as np"
      ]
    },
    {
      "cell_type": "markdown",
      "id": "c73942a4",
      "metadata": {
        "id": "c73942a4"
      },
      "source": [
        "## `pandas` tarkibidagi ma'lumotlar tuzilmalari\n",
        "\n",
        "pandas ikkita juda muhim va deyalri barcha loyihalar uchun mos tushuvchi Series va DataFrame ma'lumotlar tuzilamalariga ega. Keling ular bilan yaqindan tanishamiz.\n",
        "\n",
        "Boshlanishiga bu ikki tuzilmalarni ham dasturimizga chaqirib olaylik."
      ]
    },
    {
      "cell_type": "code",
      "execution_count": null,
      "id": "a543bf7d",
      "metadata": {
        "id": "a543bf7d"
      },
      "outputs": [],
      "source": [
        "from pandas import Series, DataFrame as df # DataFrameni qisqacha qilib df deb chariqib oldik"
      ]
    },
    {
      "cell_type": "markdown",
      "id": "8d88ccbd",
      "metadata": {
        "id": "8d88ccbd"
      },
      "source": [
        "### 2.2.1 `Series`\n",
        "\n",
        "`Series` bir o'lchovli massivga o'xshash ma'lumotlar tuzilmasi bo'lib qiymatlar va ularga mos keluvchi indekslardan iborat bo'ladi. \n",
        "\n",
        "Eng sodda ko'rinishda `Series` ma'lumotlar massividan iborat bo'ladi."
      ]
    },
    {
      "cell_type": "code",
      "execution_count": null,
      "id": "7cbe335d",
      "metadata": {
        "id": "7cbe335d"
      },
      "outputs": [],
      "source": [
        "obj = Series([4, 5, -7, 3.2])"
      ]
    },
    {
      "cell_type": "code",
      "execution_count": null,
      "id": "3bafadcc",
      "metadata": {
        "colab": {
          "base_uri": "https://localhost:8080/"
        },
        "id": "3bafadcc",
        "outputId": "755b6414-e5c3-4f7e-ed60-a2a3ddc91f76"
      },
      "outputs": [
        {
          "output_type": "execute_result",
          "data": {
            "text/plain": [
              "0    4.0\n",
              "1    5.0\n",
              "2   -7.0\n",
              "3    3.2\n",
              "dtype: float64"
            ]
          },
          "metadata": {},
          "execution_count": 4
        }
      ],
      "source": [
        "obj"
      ]
    },
    {
      "cell_type": "markdown",
      "id": "81e157e1",
      "metadata": {
        "id": "81e157e1"
      },
      "source": [
        "Konsolga chop etganda ,`Series` yuqoridagi kabi indekslar (chap ustun) va qiymatlar (o'ng ustun) ko'rinishida chiqadi. \n",
        "`Series` obyektini yaratsihda indekslarni bermaganimiz sababli indekslar `0` dan `N-1` gacha qiymatlarni oladi (`N` ma'lumotlar uzunligi). \n",
        "\n",
        "`Series` obyekti index va qiymatlarini alohida ajratib ko'rishimiz ham mumkin."
      ]
    },
    {
      "cell_type": "code",
      "execution_count": null,
      "id": "78c31c02",
      "metadata": {
        "colab": {
          "base_uri": "https://localhost:8080/"
        },
        "id": "78c31c02",
        "outputId": "fd594e56-e510-429f-8312-110b00b1cf6f"
      },
      "outputs": [
        {
          "output_type": "execute_result",
          "data": {
            "text/plain": [
              "array([ 4. ,  5. , -7. ,  3.2])"
            ]
          },
          "metadata": {},
          "execution_count": 5
        }
      ],
      "source": [
        "obj.values # qiymatlar"
      ]
    },
    {
      "cell_type": "code",
      "execution_count": null,
      "id": "175bf75c",
      "metadata": {
        "colab": {
          "base_uri": "https://localhost:8080/"
        },
        "id": "175bf75c",
        "outputId": "ee583934-d923-4868-c01b-9c63d484d895"
      },
      "outputs": [
        {
          "output_type": "execute_result",
          "data": {
            "text/plain": [
              "RangeIndex(start=0, stop=4, step=1)"
            ]
          },
          "metadata": {},
          "execution_count": 6
        }
      ],
      "source": [
        "obj.index # indekslar"
      ]
    },
    {
      "cell_type": "markdown",
      "id": "2367f3a6",
      "metadata": {
        "id": "2367f3a6"
      },
      "source": [
        "Qiymatlarga indeks orqali murojaat qilish mumkin."
      ]
    },
    {
      "cell_type": "code",
      "execution_count": null,
      "id": "b5f547ad",
      "metadata": {
        "colab": {
          "base_uri": "https://localhost:8080/"
        },
        "id": "b5f547ad",
        "outputId": "02964f90-fc19-4a5f-9c46-65d379f68981"
      },
      "outputs": [
        {
          "output_type": "execute_result",
          "data": {
            "text/plain": [
              "4.0"
            ]
          },
          "metadata": {},
          "execution_count": 7
        }
      ],
      "source": [
        "obj[0] # birinchi element"
      ]
    },
    {
      "cell_type": "code",
      "execution_count": null,
      "id": "3e9d806e",
      "metadata": {
        "colab": {
          "base_uri": "https://localhost:8080/"
        },
        "id": "3e9d806e",
        "outputId": "c3338b38-980a-4e30-98d4-82d0ae906db3"
      },
      "outputs": [
        {
          "output_type": "execute_result",
          "data": {
            "text/plain": [
              "3.2"
            ]
          },
          "metadata": {},
          "execution_count": 8
        }
      ],
      "source": [
        "obj[3]"
      ]
    },
    {
      "cell_type": "markdown",
      "id": "140e5f2b",
      "metadata": {
        "id": "140e5f2b"
      },
      "source": [
        "`Series` obyektini yaratishda indekslarga o'zimiz ham nom berishimiz mumkin"
      ]
    },
    {
      "cell_type": "code",
      "execution_count": null,
      "id": "9faa330a",
      "metadata": {
        "id": "9faa330a"
      },
      "outputs": [],
      "source": [
        "obj2 = Series([4, 5, -7, 3.2], index=['a','b','c','d']) # bu yerda indekslarga alifbo harflarini berdik."
      ]
    },
    {
      "cell_type": "code",
      "execution_count": null,
      "id": "beac19c7",
      "metadata": {
        "colab": {
          "base_uri": "https://localhost:8080/"
        },
        "id": "beac19c7",
        "outputId": "82fe63c0-a264-40c3-b42b-5060f1f53686"
      },
      "outputs": [
        {
          "output_type": "execute_result",
          "data": {
            "text/plain": [
              "a    4.0\n",
              "b    5.0\n",
              "c   -7.0\n",
              "d    3.2\n",
              "dtype: float64"
            ]
          },
          "metadata": {},
          "execution_count": 10
        }
      ],
      "source": [
        "obj2"
      ]
    },
    {
      "cell_type": "code",
      "execution_count": null,
      "id": "5aa9cb88",
      "metadata": {
        "colab": {
          "base_uri": "https://localhost:8080/"
        },
        "id": "5aa9cb88",
        "outputId": "ce874a98-1231-4bac-fdff-5ad1fb1ed828"
      },
      "outputs": [
        {
          "output_type": "execute_result",
          "data": {
            "text/plain": [
              "Index(['a', 'b', 'c', 'd'], dtype='object')"
            ]
          },
          "metadata": {},
          "execution_count": 11
        }
      ],
      "source": [
        "obj2.index"
      ]
    },
    {
      "cell_type": "markdown",
      "id": "43be3341",
      "metadata": {
        "id": "43be3341"
      },
      "source": [
        "Obyekt ichidagi qiymatlarga esa yana indeks orqali murojaat qilamiz:"
      ]
    },
    {
      "cell_type": "code",
      "execution_count": null,
      "id": "43de675d",
      "metadata": {
        "colab": {
          "base_uri": "https://localhost:8080/"
        },
        "id": "43de675d",
        "outputId": "cba18f07-203a-455d-ff47-d40cf8695a3c"
      },
      "outputs": [
        {
          "output_type": "execute_result",
          "data": {
            "text/plain": [
              "4.0"
            ]
          },
          "metadata": {},
          "execution_count": 12
        }
      ],
      "source": [
        "obj2['a']"
      ]
    },
    {
      "cell_type": "code",
      "execution_count": null,
      "id": "63865e7c",
      "metadata": {
        "id": "63865e7c"
      },
      "outputs": [],
      "source": [
        "obj2['a']=4.5"
      ]
    },
    {
      "cell_type": "code",
      "execution_count": null,
      "id": "4a413744",
      "metadata": {
        "colab": {
          "base_uri": "https://localhost:8080/"
        },
        "id": "4a413744",
        "outputId": "d753991d-d259-4c26-844d-a59edb9f6f8a"
      },
      "outputs": [
        {
          "output_type": "execute_result",
          "data": {
            "text/plain": [
              "a    4.5\n",
              "b    5.0\n",
              "c   -7.0\n",
              "d    3.2\n",
              "dtype: float64"
            ]
          },
          "metadata": {},
          "execution_count": 14
        }
      ],
      "source": [
        "obj2"
      ]
    },
    {
      "cell_type": "markdown",
      "id": "bab2c845",
      "metadata": {
        "id": "bab2c845"
      },
      "source": [
        "Yangi qiymat qo'shish:"
      ]
    },
    {
      "cell_type": "code",
      "execution_count": null,
      "id": "cdd471d4",
      "metadata": {
        "id": "cdd471d4"
      },
      "outputs": [],
      "source": [
        "obj2['e']=5"
      ]
    },
    {
      "cell_type": "code",
      "execution_count": null,
      "id": "c34c0ec5",
      "metadata": {
        "colab": {
          "base_uri": "https://localhost:8080/"
        },
        "id": "c34c0ec5",
        "outputId": "c398a678-9dbb-400a-8ee1-ea28c68a2cd9"
      },
      "outputs": [
        {
          "output_type": "execute_result",
          "data": {
            "text/plain": [
              "a    4.5\n",
              "b    5.0\n",
              "c   -7.0\n",
              "d    3.2\n",
              "e    5.0\n",
              "dtype: float64"
            ]
          },
          "metadata": {},
          "execution_count": 16
        }
      ],
      "source": [
        "obj2"
      ]
    },
    {
      "cell_type": "markdown",
      "id": "5862e186",
      "metadata": {
        "id": "5862e186"
      },
      "source": [
        "Birdaniga bir nechta qiymatlarni olish:"
      ]
    },
    {
      "cell_type": "code",
      "execution_count": null,
      "id": "3a59ef9e",
      "metadata": {
        "colab": {
          "base_uri": "https://localhost:8080/"
        },
        "id": "3a59ef9e",
        "outputId": "8869a722-74c2-4a4f-d0eb-2e517a72089f"
      },
      "outputs": [
        {
          "output_type": "execute_result",
          "data": {
            "text/plain": [
              "a    4.5\n",
              "c   -7.0\n",
              "e    5.0\n",
              "dtype: float64"
            ]
          },
          "metadata": {},
          "execution_count": 17
        }
      ],
      "source": [
        "obj2[['a','c','e']]"
      ]
    },
    {
      "cell_type": "markdown",
      "id": "62ad79f0",
      "metadata": {
        "id": "62ad79f0"
      },
      "source": [
        "`Series` obyekti ustida arifmetik amallar bajarishda indekslar saqlanib qoladi"
      ]
    },
    {
      "cell_type": "code",
      "execution_count": null,
      "id": "e300b78e",
      "metadata": {
        "colab": {
          "base_uri": "https://localhost:8080/"
        },
        "id": "e300b78e",
        "outputId": "7e61b2ab-839e-43ca-ad45-cf54cc37a094"
      },
      "outputs": [
        {
          "output_type": "execute_result",
          "data": {
            "text/plain": [
              "a    4.5\n",
              "b    5.0\n",
              "d    3.2\n",
              "e    5.0\n",
              "dtype: float64"
            ]
          },
          "metadata": {},
          "execution_count": 18
        }
      ],
      "source": [
        "obj2[obj2>0]"
      ]
    },
    {
      "cell_type": "code",
      "execution_count": null,
      "id": "293ecf62",
      "metadata": {
        "colab": {
          "base_uri": "https://localhost:8080/"
        },
        "id": "293ecf62",
        "outputId": "eb80f55b-0e4f-4561-bf50-70d2c4c19be4"
      },
      "outputs": [
        {
          "output_type": "execute_result",
          "data": {
            "text/plain": [
              "a     9.0\n",
              "b    10.0\n",
              "c   -14.0\n",
              "d     6.4\n",
              "e    10.0\n",
              "dtype: float64"
            ]
          },
          "metadata": {},
          "execution_count": 19
        }
      ],
      "source": [
        "obj2*2"
      ]
    },
    {
      "cell_type": "code",
      "execution_count": null,
      "id": "e305c453",
      "metadata": {
        "colab": {
          "base_uri": "https://localhost:8080/"
        },
        "id": "e305c453",
        "outputId": "c33f465d-86a0-4f1c-808e-9fc4d5f10ce5"
      },
      "outputs": [
        {
          "output_type": "execute_result",
          "data": {
            "text/plain": [
              "a     90.017131\n",
              "b    148.413159\n",
              "c      0.000912\n",
              "d     24.532530\n",
              "e    148.413159\n",
              "dtype: float64"
            ]
          },
          "metadata": {},
          "execution_count": 20
        }
      ],
      "source": [
        "np.exp(obj2)"
      ]
    },
    {
      "cell_type": "markdown",
      "id": "9e1883b4",
      "metadata": {
        "id": "9e1883b4"
      },
      "source": [
        "`Series` obyektini Pythondagi lug'at (dictionary) ma'lumot turiga ham o'xshatish mumkin. Yodingizda bo'lsa lug'at elementlari ham 2 qismdan, kalit va qiymatdan iborat edi.\n",
        "\n",
        "O'rni kelganda bu turdagi obyektlardan lug'atdan foydalangandek ham foydalanish mumkin:"
      ]
    },
    {
      "cell_type": "code",
      "execution_count": null,
      "id": "4965d6f3",
      "metadata": {
        "colab": {
          "base_uri": "https://localhost:8080/"
        },
        "id": "4965d6f3",
        "outputId": "774ac7a6-6317-498d-9d47-883d9891c8b6"
      },
      "outputs": [
        {
          "output_type": "execute_result",
          "data": {
            "text/plain": [
              "True"
            ]
          },
          "metadata": {},
          "execution_count": 21
        }
      ],
      "source": [
        "'b' in obj2"
      ]
    },
    {
      "cell_type": "code",
      "execution_count": null,
      "id": "5ff5aa83",
      "metadata": {
        "colab": {
          "base_uri": "https://localhost:8080/"
        },
        "id": "5ff5aa83",
        "outputId": "86b49bcb-7657-44b2-cc8f-b445b203fa76"
      },
      "outputs": [
        {
          "output_type": "execute_result",
          "data": {
            "text/plain": [
              "False"
            ]
          },
          "metadata": {},
          "execution_count": 22
        }
      ],
      "source": [
        "'x' in obj2"
      ]
    },
    {
      "cell_type": "markdown",
      "id": "69800b4e",
      "metadata": {
        "id": "69800b4e"
      },
      "source": [
        "Lug'atdan `Series` obyektini yaratish ham juda oson:"
      ]
    },
    {
      "cell_type": "code",
      "execution_count": null,
      "id": "80b4c570",
      "metadata": {
        "id": "80b4c570"
      },
      "outputs": [],
      "source": [
        "cars_dict = {'Malibu':40000, 'Lacetti':20000, 'Toyota':45000, 'Mazda':52000, 'Honda':38000} # bu lug'at"
      ]
    },
    {
      "cell_type": "code",
      "execution_count": null,
      "id": "caeb485a",
      "metadata": {
        "id": "caeb485a"
      },
      "outputs": [],
      "source": [
        "salon1 = Series(cars_dict) # lug'atdan Sereis yaratamiz"
      ]
    },
    {
      "cell_type": "code",
      "execution_count": null,
      "id": "7986df89",
      "metadata": {
        "colab": {
          "base_uri": "https://localhost:8080/"
        },
        "id": "7986df89",
        "outputId": "710d4b42-eb7e-42ce-a230-c6bf47bed8ff"
      },
      "outputs": [
        {
          "output_type": "execute_result",
          "data": {
            "text/plain": [
              "Malibu     40000\n",
              "Lacetti    20000\n",
              "Toyota     45000\n",
              "Mazda      52000\n",
              "Honda      38000\n",
              "dtype: int64"
            ]
          },
          "metadata": {},
          "execution_count": 25
        }
      ],
      "source": [
        "salon1"
      ]
    },
    {
      "cell_type": "code",
      "execution_count": null,
      "id": "675dc4ea",
      "metadata": {
        "colab": {
          "base_uri": "https://localhost:8080/"
        },
        "id": "675dc4ea",
        "outputId": "a52633d1-243c-4744-ec78-cd4a8f4e6b31"
      },
      "outputs": [
        {
          "output_type": "execute_result",
          "data": {
            "text/plain": [
              "38000"
            ]
          },
          "metadata": {},
          "execution_count": 26
        }
      ],
      "source": [
        "salon1['Honda']"
      ]
    },
    {
      "cell_type": "markdown",
      "id": "ed32445c",
      "metadata": {
        "id": "ed32445c"
      },
      "source": [
        "Lug'atdan `Series` yaratishda yangi elementlar indeksi lug'atda berilgan ketma-ketlikda bo'ladi. Bu ketma-ketlikni biz avvaldan ro'yxat ko'rinishida ham berishimiz mumkin."
      ]
    },
    {
      "cell_type": "code",
      "execution_count": null,
      "id": "75ba0338",
      "metadata": {
        "id": "75ba0338"
      },
      "outputs": [],
      "source": [
        "models = ['Honda','Mazda','Lacetti','Jaguar','Malibu','Toyota'] # buyerda bitta qo'shimcha model bor"
      ]
    },
    {
      "cell_type": "markdown",
      "id": "36d73f52",
      "metadata": {
        "id": "36d73f52"
      },
      "source": [
        "Ahamiyat bering, `viloyatlar` ro'yxatida qo'shimcha `Buxoro` elemtni ham bor, `Series` elementi yaratilganda ro'yxtada mavjud bo'lmagan qiymatlar o'rniga `NaN` (Not a number, son emas) qiymati qo'yib ketiladi."
      ]
    },
    {
      "cell_type": "code",
      "execution_count": null,
      "id": "9f97a253",
      "metadata": {
        "id": "9f97a253"
      },
      "outputs": [],
      "source": [
        "salon2 = Series(cars_dict, index=models)"
      ]
    },
    {
      "cell_type": "code",
      "execution_count": null,
      "id": "a955010c",
      "metadata": {
        "colab": {
          "base_uri": "https://localhost:8080/"
        },
        "id": "a955010c",
        "outputId": "a6215211-2b10-4b98-83a0-aae5a9928c61"
      },
      "outputs": [
        {
          "output_type": "execute_result",
          "data": {
            "text/plain": [
              "Honda      38000.0\n",
              "Mazda      52000.0\n",
              "Lacetti    20000.0\n",
              "Jaguar         NaN\n",
              "Malibu     40000.0\n",
              "Toyota     45000.0\n",
              "dtype: float64"
            ]
          },
          "metadata": {},
          "execution_count": 29
        }
      ],
      "source": [
        "salon2"
      ]
    },
    {
      "cell_type": "markdown",
      "id": "e5855406",
      "metadata": {
        "id": "e5855406"
      },
      "source": [
        "Keyinchalik, ma'lumotlar bilan ishlaganda `NaN` qiymatlarni ajratish muhim ahamiyatga ega. Buning uchun `Series` obyekti bir maxsus metodlarga ega:"
      ]
    },
    {
      "cell_type": "code",
      "execution_count": null,
      "id": "8c0d2048",
      "metadata": {
        "colab": {
          "base_uri": "https://localhost:8080/"
        },
        "id": "8c0d2048",
        "outputId": "22b6ef44-ac6c-4a0f-937d-e77bc89015d7"
      },
      "outputs": [
        {
          "output_type": "execute_result",
          "data": {
            "text/plain": [
              "Car Model\n",
              "Honda      False\n",
              "Mazda      False\n",
              "Lacetti    False\n",
              "Jaguar      True\n",
              "Malibu     False\n",
              "Toyota     False\n",
              "Name: Avtosalon, dtype: bool"
            ]
          },
          "metadata": {},
          "execution_count": 54
        }
      ],
      "source": [
        "salon2.isnull() # qiymat null (mavjud emasligini) tekshirish uchun"
      ]
    },
    {
      "cell_type": "code",
      "execution_count": null,
      "id": "0337db34",
      "metadata": {
        "colab": {
          "base_uri": "https://localhost:8080/"
        },
        "id": "0337db34",
        "outputId": "57fa42e0-a675-4a7e-9f6f-fc4590979fa3"
      },
      "outputs": [
        {
          "output_type": "execute_result",
          "data": {
            "text/plain": [
              "Car Model\n",
              "Honda       True\n",
              "Mazda       True\n",
              "Lacetti     True\n",
              "Jaguar     False\n",
              "Malibu      True\n",
              "Toyota      True\n",
              "Name: Avtosalon, dtype: bool"
            ]
          },
          "metadata": {},
          "execution_count": 55
        }
      ],
      "source": [
        "salon2.notnull() # qiymat null emasligini (mavjudligini) tekshirish uchun"
      ]
    },
    {
      "cell_type": "markdown",
      "id": "bd8cb678",
      "metadata": {
        "id": "bd8cb678"
      },
      "source": [
        "`Series` obyektining muhim jihatlaridan biri, ikkita `series` obyektini qo'shishda (ayirishda) qiymatlar indeks bo'yicha qo'shiladi."
      ]
    },
    {
      "cell_type": "code",
      "execution_count": null,
      "id": "b117c771",
      "metadata": {
        "colab": {
          "base_uri": "https://localhost:8080/"
        },
        "id": "b117c771",
        "outputId": "78a3814a-79d1-4c23-8379-96d2711b9521"
      },
      "outputs": [
        {
          "output_type": "execute_result",
          "data": {
            "text/plain": [
              "Honda      38000.0\n",
              "Mazda      52000.0\n",
              "Lacetti    20000.0\n",
              "Jaguar         NaN\n",
              "Malibu     40000.0\n",
              "Toyota     45000.0\n",
              "dtype: float64"
            ]
          },
          "metadata": {},
          "execution_count": 32
        }
      ],
      "source": [
        "salon2"
      ]
    },
    {
      "cell_type": "code",
      "execution_count": null,
      "id": "f39d6df2",
      "metadata": {
        "id": "f39d6df2"
      },
      "outputs": [],
      "source": [
        "# 'Honda','Mazda','Lacetti','Jaguar','Malibu','Toyota'\n",
        "new_prices = Series({\"Honda\":5000, \"Mazda\":-3000, \"Malibu\":4500, \"Toyota\":5200, 'Lacetti':-1200})"
      ]
    },
    {
      "cell_type": "code",
      "execution_count": null,
      "id": "2c0d0a51",
      "metadata": {
        "colab": {
          "base_uri": "https://localhost:8080/"
        },
        "id": "2c0d0a51",
        "outputId": "ca60c8cc-38a2-4d4a-8b75-69bbe9a96f48"
      },
      "outputs": [
        {
          "output_type": "execute_result",
          "data": {
            "text/plain": [
              "Honda      5000\n",
              "Mazda     -3000\n",
              "Malibu     4500\n",
              "Toyota     5200\n",
              "Lacetti   -1200\n",
              "dtype: int64"
            ]
          },
          "metadata": {},
          "execution_count": 34
        }
      ],
      "source": [
        "new_prices"
      ]
    },
    {
      "cell_type": "code",
      "execution_count": null,
      "id": "c0b9173b",
      "metadata": {
        "colab": {
          "base_uri": "https://localhost:8080/"
        },
        "id": "c0b9173b",
        "outputId": "e76e58be-815c-46ca-a9ff-493ce9b7df11"
      },
      "outputs": [
        {
          "output_type": "execute_result",
          "data": {
            "text/plain": [
              "Honda      43000.0\n",
              "Jaguar         NaN\n",
              "Lacetti    18800.0\n",
              "Malibu     44500.0\n",
              "Mazda      49000.0\n",
              "Toyota     50200.0\n",
              "dtype: float64"
            ]
          },
          "metadata": {},
          "execution_count": 35
        }
      ],
      "source": [
        "salon2+new_prices"
      ]
    },
    {
      "cell_type": "markdown",
      "id": "484e452f",
      "metadata": {
        "id": "484e452f"
      },
      "source": [
        "`Series` obyektining o'zini ham indekslarini ham nomlash mumkin:"
      ]
    },
    {
      "cell_type": "code",
      "execution_count": null,
      "id": "744f8738",
      "metadata": {
        "id": "744f8738"
      },
      "outputs": [],
      "source": [
        "salon2.name = 'Avtosalon'"
      ]
    },
    {
      "cell_type": "code",
      "execution_count": null,
      "id": "c5314005",
      "metadata": {
        "id": "c5314005"
      },
      "outputs": [],
      "source": [
        "salon2.index.name = 'Car Model'"
      ]
    },
    {
      "cell_type": "code",
      "execution_count": null,
      "id": "e5eeedbb",
      "metadata": {
        "colab": {
          "base_uri": "https://localhost:8080/"
        },
        "id": "e5eeedbb",
        "outputId": "e88be6cf-af16-4bb8-82e6-5ce8ce55caf3"
      },
      "outputs": [
        {
          "output_type": "execute_result",
          "data": {
            "text/plain": [
              "Car Model\n",
              "Honda      38000.0\n",
              "Mazda      52000.0\n",
              "Lacetti    20000.0\n",
              "Jaguar         NaN\n",
              "Malibu     40000.0\n",
              "Toyota     45000.0\n",
              "Name: Avtosalon, dtype: float64"
            ]
          },
          "metadata": {},
          "execution_count": 38
        }
      ],
      "source": [
        "salon2"
      ]
    },
    {
      "cell_type": "code",
      "execution_count": null,
      "id": "7882e172",
      "metadata": {
        "colab": {
          "base_uri": "https://localhost:8080/",
          "height": 258
        },
        "id": "7882e172",
        "outputId": "6d738064-8577-41df-b6ab-fc6a4bf50565"
      },
      "outputs": [
        {
          "output_type": "execute_result",
          "data": {
            "text/plain": [
              "'Avtosalon'"
            ],
            "application/vnd.google.colaboratory.intrinsic+json": {
              "type": "string"
            }
          },
          "metadata": {},
          "execution_count": 39
        }
      ],
      "source": [
        "salon2.name"
      ]
    },
    {
      "cell_type": "markdown",
      "id": "51ca624d",
      "metadata": {
        "id": "51ca624d"
      },
      "source": [
        "## `Series` obyektiga oid ba'zi parametrlar va metodlar"
      ]
    },
    {
      "cell_type": "code",
      "execution_count": null,
      "id": "56a96c8c",
      "metadata": {
        "colab": {
          "base_uri": "https://localhost:8080/"
        },
        "id": "56a96c8c",
        "outputId": "5e6c2c87-4298-438e-bb03-47b9818b41a3"
      },
      "outputs": [
        {
          "output_type": "execute_result",
          "data": {
            "text/plain": [
              "Index(['Honda', 'Mazda', 'Lacetti', 'Jaguar', 'Malibu', 'Toyota'], dtype='object', name='Car Model')"
            ]
          },
          "metadata": {},
          "execution_count": 40
        }
      ],
      "source": [
        "salon2.index # indekslar "
      ]
    },
    {
      "cell_type": "code",
      "execution_count": null,
      "id": "3a6fe77b",
      "metadata": {
        "colab": {
          "base_uri": "https://localhost:8080/"
        },
        "id": "3a6fe77b",
        "outputId": "2ef47c9c-b5fe-4efd-fadb-bddd597ee109"
      },
      "outputs": [
        {
          "output_type": "execute_result",
          "data": {
            "text/plain": [
              "array([38000., 52000., 20000.,    nan, 40000., 45000.])"
            ]
          },
          "metadata": {},
          "execution_count": 41
        }
      ],
      "source": [
        "salon2.values # qiymatlar"
      ]
    },
    {
      "cell_type": "code",
      "execution_count": null,
      "id": "2cebdbaa",
      "metadata": {
        "colab": {
          "base_uri": "https://localhost:8080/"
        },
        "id": "2cebdbaa",
        "outputId": "3d61f82d-3685-4822-91c7-2fcd53a1feea"
      },
      "outputs": [
        {
          "output_type": "execute_result",
          "data": {
            "text/plain": [
              "True"
            ]
          },
          "metadata": {},
          "execution_count": 42
        }
      ],
      "source": [
        "salon2.hasnans # NaN qiymatlar bor (True) yo'qligi (False)"
      ]
    },
    {
      "cell_type": "code",
      "execution_count": null,
      "id": "4aa0030c",
      "metadata": {
        "colab": {
          "base_uri": "https://localhost:8080/"
        },
        "id": "4aa0030c",
        "outputId": "0b6a5894-2b15-494c-982f-246b9b3b5446"
      },
      "outputs": [
        {
          "output_type": "execute_result",
          "data": {
            "text/plain": [
              "dtype('float64')"
            ]
          },
          "metadata": {},
          "execution_count": 43
        }
      ],
      "source": [
        "salon2.dtype # qiymatlarning ma'lumot turi"
      ]
    },
    {
      "cell_type": "code",
      "execution_count": null,
      "id": "0259d253",
      "metadata": {
        "colab": {
          "base_uri": "https://localhost:8080/"
        },
        "id": "0259d253",
        "outputId": "689333a5-c382-49be-c8d2-2457bd693911"
      },
      "outputs": [
        {
          "output_type": "execute_result",
          "data": {
            "text/plain": [
              "True"
            ]
          },
          "metadata": {},
          "execution_count": 44
        }
      ],
      "source": [
        "salon2.is_unique # qiymatlar takrorlanmas ekanini tekshirish"
      ]
    },
    {
      "cell_type": "code",
      "execution_count": null,
      "id": "6225a021",
      "metadata": {
        "colab": {
          "base_uri": "https://localhost:8080/"
        },
        "id": "6225a021",
        "outputId": "2db1d97b-bc5c-4d93-b045-2c45a54095ab"
      },
      "outputs": [
        {
          "output_type": "execute_result",
          "data": {
            "text/plain": [
              "(6,)"
            ]
          },
          "metadata": {},
          "execution_count": 45
        }
      ],
      "source": [
        "salon2.shape # Series hajmi"
      ]
    },
    {
      "cell_type": "code",
      "execution_count": null,
      "id": "42ff4fa8",
      "metadata": {
        "scrolled": true,
        "colab": {
          "base_uri": "https://localhost:8080/"
        },
        "id": "42ff4fa8",
        "outputId": "c7ae5433-9c2a-4803-a468-22b847579c02"
      },
      "outputs": [
        {
          "output_type": "execute_result",
          "data": {
            "text/plain": [
              "6"
            ]
          },
          "metadata": {},
          "execution_count": 46
        }
      ],
      "source": [
        "salon2.size # Series hajmi"
      ]
    },
    {
      "cell_type": "code",
      "execution_count": null,
      "id": "abfa7655",
      "metadata": {
        "scrolled": true,
        "colab": {
          "base_uri": "https://localhost:8080/"
        },
        "id": "abfa7655",
        "outputId": "c6c58b19-845f-4a0f-9d10-a5cb52e89ba4"
      },
      "outputs": [
        {
          "output_type": "execute_result",
          "data": {
            "text/plain": [
              "20000.0"
            ]
          },
          "metadata": {},
          "execution_count": 47
        }
      ],
      "source": [
        "salon2.iloc[2] # ma'lumotlarga indeks tartib raqami bo'yicha murojaat qilish"
      ]
    },
    {
      "cell_type": "code",
      "execution_count": null,
      "id": "57edc208",
      "metadata": {
        "colab": {
          "base_uri": "https://localhost:8080/"
        },
        "id": "57edc208",
        "outputId": "637ea646-eecc-420f-eb12-cc91b7174a17"
      },
      "outputs": [
        {
          "output_type": "execute_result",
          "data": {
            "text/plain": [
              "45000.0"
            ]
          },
          "metadata": {},
          "execution_count": 48
        }
      ],
      "source": [
        "salon2.iloc[-1]"
      ]
    },
    {
      "cell_type": "code",
      "execution_count": null,
      "id": "f1b022d9",
      "metadata": {
        "colab": {
          "base_uri": "https://localhost:8080/"
        },
        "id": "f1b022d9",
        "outputId": "1dbffb1c-4f12-4b70-d829-583ecccc5342"
      },
      "outputs": [
        {
          "output_type": "execute_result",
          "data": {
            "text/plain": [
              "38000.0"
            ]
          },
          "metadata": {},
          "execution_count": 49
        }
      ],
      "source": [
        "salon2['Honda'] # ma'lumotlarga indeks bo'yicha murojaat qilish"
      ]
    },
    {
      "cell_type": "code",
      "execution_count": null,
      "id": "4d0ba654",
      "metadata": {
        "colab": {
          "base_uri": "https://localhost:8080/"
        },
        "id": "4d0ba654",
        "outputId": "b459400d-0433-41c0-d5c8-d28df0e8a355"
      },
      "outputs": [
        {
          "output_type": "execute_result",
          "data": {
            "text/plain": [
              "45000.0"
            ]
          },
          "metadata": {},
          "execution_count": 50
        }
      ],
      "source": [
        "salon2.loc['Toyota'] # ma'lumotlarga indeks bo'yicha murojaat qilish"
      ]
    },
    {
      "cell_type": "code",
      "execution_count": null,
      "id": "67589333",
      "metadata": {
        "colab": {
          "base_uri": "https://localhost:8080/"
        },
        "id": "67589333",
        "outputId": "30fd53d4-8641-4668-be4a-c5c16c1461d4"
      },
      "outputs": [
        {
          "output_type": "execute_result",
          "data": {
            "text/plain": [
              "52000.0"
            ]
          },
          "metadata": {},
          "execution_count": 51
        }
      ],
      "source": [
        "salon2.max() # max qiymat"
      ]
    },
    {
      "cell_type": "code",
      "execution_count": null,
      "id": "1f221603",
      "metadata": {
        "colab": {
          "base_uri": "https://localhost:8080/"
        },
        "id": "1f221603",
        "outputId": "d343881c-854a-4615-f659-93ee1ae8cfc5"
      },
      "outputs": [
        {
          "output_type": "execute_result",
          "data": {
            "text/plain": [
              "20000.0"
            ]
          },
          "metadata": {},
          "execution_count": 52
        }
      ],
      "source": [
        "salon2.min() # min qiymat"
      ]
    },
    {
      "cell_type": "code",
      "execution_count": null,
      "id": "ef0ba978",
      "metadata": {
        "colab": {
          "base_uri": "https://localhost:8080/"
        },
        "id": "ef0ba978",
        "outputId": "8a1e2311-5c81-473c-b184-c34f04f665ce"
      },
      "outputs": [
        {
          "output_type": "execute_result",
          "data": {
            "text/plain": [
              "39000.0"
            ]
          },
          "metadata": {},
          "execution_count": 53
        }
      ],
      "source": [
        "salon2.mean() # o'rtacha qiymat"
      ]
    },
    {
      "cell_type": "code",
      "execution_count": null,
      "id": "59a40094",
      "metadata": {
        "id": "59a40094"
      },
      "outputs": [],
      "source": []
    }
  ],
  "metadata": {
    "kernelspec": {
      "display_name": "Python 3",
      "language": "python",
      "name": "python3"
    },
    "language_info": {
      "codemirror_mode": {
        "name": "ipython",
        "version": 3
      },
      "file_extension": ".py",
      "mimetype": "text/x-python",
      "name": "python",
      "nbconvert_exporter": "python",
      "pygments_lexer": "ipython3",
      "version": "3.8.8"
    },
    "colab": {
      "provenance": [],
      "include_colab_link": true
    }
  },
  "nbformat": 4,
  "nbformat_minor": 5
}