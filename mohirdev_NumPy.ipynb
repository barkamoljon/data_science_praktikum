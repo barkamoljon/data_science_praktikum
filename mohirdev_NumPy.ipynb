{
  "cells": [
    {
      "cell_type": "markdown",
      "metadata": {
        "id": "view-in-github",
        "colab_type": "text"
      },
      "source": [
        "<a href=\"https://colab.research.google.com/github/barkamoljon/data_science_praktikum/blob/main/mohirdev_NumPy.ipynb\" target=\"_parent\"><img src=\"https://colab.research.google.com/assets/colab-badge.svg\" alt=\"Open In Colab\"/></a>"
      ]
    },
    {
      "cell_type": "markdown",
      "id": "bf79c78b",
      "metadata": {
        "id": "bf79c78b"
      },
      "source": [
        "# NumPy kutubxonasiga doir bilimlaringizni mustaxkamlash uchun mashqlar\n",
        "\n",
        "Hurmatli o'quvchi, bilimingizni yanada mustaxkamlashingiz va chuqurroq ko'nikmalarga ega bo'lishingiz uchun sizga topshiriqlar tayyorladik. Sizga yengillik yaratish maqsadida topshiriqni aynan qanday funksiyalar yordamida amalga oshirishingiz mumkin ekanini\n",
        " `💡Ishora` ko'rinishida yozdik!"
      ]
    },
    {
      "cell_type": "markdown",
      "id": "017db353",
      "metadata": {
        "id": "017db353"
      },
      "source": [
        "#### 1. NumPy kutubxonasini `np` nomi ostida yuklang va numpy kutubxonasini chop eting.\n",
        "\n",
        "versiya va konfiguratsiyani tekshiring.\n"
      ]
    },
    {
      "cell_type": "markdown",
      "source": [
        "`💡Ishora` import … as` and `np.__version__, np.show_config"
      ],
      "metadata": {
        "id": "e28779fe"
      },
      "id": "e28779fe"
    },
    {
      "cell_type": "code",
      "source": [
        "import numpy as np"
      ],
      "metadata": {
        "id": "_pCbn1ieI3u9"
      },
      "id": "_pCbn1ieI3u9",
      "execution_count": 1,
      "outputs": []
    },
    {
      "cell_type": "markdown",
      "id": "46950f4f",
      "metadata": {
        "id": "46950f4f"
      },
      "source": [
        "#### 2. Raqamli qiymatlar ro'yxatini bir o'lchovli NumPy massiviga aylantiring!"
      ]
    },
    {
      "cell_type": "markdown",
      "source": [
        "`💡Ishora` numpy.array"
      ],
      "metadata": {
        "id": "9b0e875f"
      },
      "id": "9b0e875f"
    },
    {
      "cell_type": "code",
      "source": [
        "sonlar =  [1,2,3,4,5,6]\n",
        "numbers = np.array(sonlar)"
      ],
      "metadata": {
        "id": "dgnzjeT3JCi4"
      },
      "id": "dgnzjeT3JCi4",
      "execution_count": 2,
      "outputs": []
    },
    {
      "cell_type": "markdown",
      "id": "e3c20b3d",
      "metadata": {
        "id": "e3c20b3d"
      },
      "source": [
        "#### 3. Qiymatlari noldan iborat bo'lgan to'qqiz o'lchovli massiv yarating.\n",
        "\n"
      ]
    },
    {
      "cell_type": "markdown",
      "source": [
        "`💡Ishora` np.zeros"
      ],
      "metadata": {
        "id": "96d0b63e"
      },
      "id": "96d0b63e"
    },
    {
      "cell_type": "code",
      "source": [
        "massiv = np.zeros(shape =(3,3))\n",
        "massiv"
      ],
      "metadata": {
        "id": "6nPJ18PPtLaH",
        "outputId": "11043edd-83c1-4bf8-bf85-4463579488ac",
        "colab": {
          "base_uri": "https://localhost:8080/"
        }
      },
      "id": "6nPJ18PPtLaH",
      "execution_count": 3,
      "outputs": [
        {
          "output_type": "execute_result",
          "data": {
            "text/plain": [
              "array([[0., 0., 0.],\n",
              "       [0., 0., 0.],\n",
              "       [0., 0., 0.]])"
            ]
          },
          "metadata": {},
          "execution_count": 3
        }
      ]
    },
    {
      "cell_type": "markdown",
      "id": "b15a879f",
      "metadata": {
        "id": "b15a879f"
      },
      "source": [
        "#### 4. Massiv yarating va uning xotira hajmini toping.\n",
        "\n"
      ]
    },
    {
      "cell_type": "markdown",
      "source": [
        "`💡Ishora` size, itemsize"
      ],
      "metadata": {
        "id": "32f9025c"
      },
      "id": "32f9025c"
    },
    {
      "cell_type": "code",
      "source": [
        "massiv.size"
      ],
      "metadata": {
        "id": "MZxcJM_oJOTs",
        "outputId": "4a1a1e4e-3805-47b7-9b2f-083770db597b",
        "colab": {
          "base_uri": "https://localhost:8080/"
        }
      },
      "id": "MZxcJM_oJOTs",
      "execution_count": 4,
      "outputs": [
        {
          "output_type": "execute_result",
          "data": {
            "text/plain": [
              "9"
            ]
          },
          "metadata": {},
          "execution_count": 4
        }
      ]
    },
    {
      "cell_type": "markdown",
      "id": "0a708990",
      "metadata": {
        "id": "0a708990"
      },
      "source": [
        "#### 5. NumPy kutubxonasidagi add funksiyasi hujjatlarini buyruq satridan qanday olishi mumkin?\n"
      ]
    },
    {
      "cell_type": "markdown",
      "source": [
        "`💡Ishora` np.info"
      ],
      "metadata": {
        "id": "d254eea5"
      },
      "id": "d254eea5"
    },
    {
      "cell_type": "code",
      "source": [
        "np.info(np.add)"
      ],
      "metadata": {
        "id": "m7nA_vYsJVUi"
      },
      "id": "m7nA_vYsJVUi",
      "execution_count": 5,
      "outputs": []
    },
    {
      "cell_type": "markdown",
      "id": "0b16cd77",
      "metadata": {
        "id": "0b16cd77"
      },
      "source": [
        "#### 6. Shunday vekor yaratingki u o'n ikki o'lchamda va qiymatlari noldan iborat bo'lsin, lekin vektorning oltinchi qiymati 1 ga teng bo'lsin.\n",
        "\n"
      ]
    },
    {
      "cell_type": "markdown",
      "source": [
        "`💡Ishora` array[12]"
      ],
      "metadata": {
        "id": "05223560"
      },
      "id": "05223560"
    },
    {
      "cell_type": "code",
      "source": [
        "vectors = np.zeros(12)\n",
        "vectors[5] = 1\n",
        "vectors"
      ],
      "metadata": {
        "id": "UJfYDNQoJc7M",
        "outputId": "ce1b43dd-b397-47c0-9364-f1e8221828a6",
        "colab": {
          "base_uri": "https://localhost:8080/"
        }
      },
      "id": "UJfYDNQoJc7M",
      "execution_count": 6,
      "outputs": [
        {
          "output_type": "execute_result",
          "data": {
            "text/plain": [
              "array([0., 0., 0., 0., 0., 1., 0., 0., 0., 0., 0., 0.])"
            ]
          },
          "metadata": {},
          "execution_count": 6
        }
      ]
    },
    {
      "cell_type": "markdown",
      "id": "782d4c77",
      "metadata": {
        "id": "782d4c77"
      },
      "source": [
        "#### 7. Qiymatlari 20 dan 59 gacha bo'lgan vektor yarating.\n",
        "\n"
      ]
    },
    {
      "cell_type": "markdown",
      "source": [
        "`💡Ishora` arange"
      ],
      "metadata": {
        "id": "7250d114"
      },
      "id": "7250d114"
    },
    {
      "cell_type": "code",
      "source": [
        "qiymatlar = np.arange(20, 59)\n",
        "qiymatlar"
      ],
      "metadata": {
        "id": "fSaWkGakJhwz",
        "outputId": "0d8a9870-b7b0-45ab-bb79-bce0875bebe2",
        "colab": {
          "base_uri": "https://localhost:8080/"
        }
      },
      "id": "fSaWkGakJhwz",
      "execution_count": 7,
      "outputs": [
        {
          "output_type": "execute_result",
          "data": {
            "text/plain": [
              "array([20, 21, 22, 23, 24, 25, 26, 27, 28, 29, 30, 31, 32, 33, 34, 35, 36,\n",
              "       37, 38, 39, 40, 41, 42, 43, 44, 45, 46, 47, 48, 49, 50, 51, 52, 53,\n",
              "       54, 55, 56, 57, 58])"
            ]
          },
          "metadata": {},
          "execution_count": 7
        }
      ]
    },
    {
      "cell_type": "markdown",
      "id": "48d48f01",
      "metadata": {
        "id": "48d48f01"
      },
      "source": [
        "#### 8. Vektor yarating va uni teskari o'zgartiring\n",
        "(birinchi element oxirgisi bo'lsin)\n",
        "\n"
      ]
    },
    {
      "cell_type": "markdown",
      "source": [
        "`💡Ishora` array[::-1]"
      ],
      "metadata": {
        "id": "fb702ae0"
      },
      "id": "fb702ae0"
    },
    {
      "cell_type": "code",
      "source": [
        "qiymatlar = qiymatlar[::-1]\n",
        "qiymatlar"
      ],
      "metadata": {
        "id": "GCP6vp_WJrON",
        "outputId": "4198d5ca-30c9-48c1-aa96-0badee954e0d",
        "colab": {
          "base_uri": "https://localhost:8080/"
        }
      },
      "id": "GCP6vp_WJrON",
      "execution_count": 8,
      "outputs": [
        {
          "output_type": "execute_result",
          "data": {
            "text/plain": [
              "array([58, 57, 56, 55, 54, 53, 52, 51, 50, 49, 48, 47, 46, 45, 44, 43, 42,\n",
              "       41, 40, 39, 38, 37, 36, 35, 34, 33, 32, 31, 30, 29, 28, 27, 26, 25,\n",
              "       24, 23, 22, 21, 20])"
            ]
          },
          "metadata": {},
          "execution_count": 8
        }
      ]
    },
    {
      "cell_type": "markdown",
      "id": "4fa39382",
      "metadata": {
        "id": "4fa39382"
      },
      "source": [
        "#### 9. 12 dan 20 gacha bo'lgan qiymatlarga ega 3x3 matritsa yarating.\n"
      ]
    },
    {
      "cell_type": "markdown",
      "source": [
        "`💡Ishora` reshape"
      ],
      "metadata": {
        "id": "97e6be92"
      },
      "id": "97e6be92"
    },
    {
      "cell_type": "code",
      "source": [
        "uchkarra_uch =  np.arange(12, 21).reshape(3,3)\n",
        "uchkarra_uch"
      ],
      "metadata": {
        "id": "Ve7gEGjuJxxw",
        "outputId": "c1a5fb6c-bd97-4a22-b35d-c92ee35ec609",
        "colab": {
          "base_uri": "https://localhost:8080/"
        }
      },
      "id": "Ve7gEGjuJxxw",
      "execution_count": 9,
      "outputs": [
        {
          "output_type": "execute_result",
          "data": {
            "text/plain": [
              "array([[12, 13, 14],\n",
              "       [15, 16, 17],\n",
              "       [18, 19, 20]])"
            ]
          },
          "metadata": {},
          "execution_count": 9
        }
      ]
    },
    {
      "cell_type": "markdown",
      "id": "da64551a",
      "metadata": {
        "id": "da64551a"
      },
      "source": [
        "#### 10. Quyidagi matritsadan foydalanib nolga teng bo'lmagan elementlarning indekslarini toping.\n",
        "[3, 7, 0, 0, 9, 0]\n",
        "\n",
        "\n",
        "\n"
      ]
    },
    {
      "cell_type": "markdown",
      "source": [
        "`💡Ishora` np.nonzero"
      ],
      "metadata": {
        "id": "322b2b68"
      },
      "id": "322b2b68"
    },
    {
      "cell_type": "code",
      "source": [
        "np.nonzero([3, 7, 0, 0, 9, 0])"
      ],
      "metadata": {
        "id": "fNIuSyBaJ4OP",
        "outputId": "c7963a89-b9e1-4f14-fead-e258dc53ae28",
        "colab": {
          "base_uri": "https://localhost:8080/"
        }
      },
      "id": "fNIuSyBaJ4OP",
      "execution_count": 10,
      "outputs": [
        {
          "output_type": "execute_result",
          "data": {
            "text/plain": [
              "(array([0, 1, 4]),)"
            ]
          },
          "metadata": {},
          "execution_count": 10
        }
      ]
    },
    {
      "cell_type": "markdown",
      "id": "f89d9c9e",
      "metadata": {
        "id": "f89d9c9e"
      },
      "source": [
        "#### 11. Tasodifiy qiymatlar bilan 2x2x2 o'lchovidagi massiv yarating.\n"
      ]
    },
    {
      "cell_type": "markdown",
      "source": [
        "`💡Ishora` np.random.random"
      ],
      "metadata": {
        "id": "5717e1c1"
      },
      "id": "5717e1c1"
    },
    {
      "cell_type": "code",
      "source": [
        "floats = np.random.random((2,2,2))\n",
        "floats"
      ],
      "metadata": {
        "id": "bHloeqHOKuiX",
        "outputId": "ab66cca5-023e-4067-9bbf-54d911a9f224",
        "colab": {
          "base_uri": "https://localhost:8080/"
        }
      },
      "id": "bHloeqHOKuiX",
      "execution_count": 11,
      "outputs": [
        {
          "output_type": "execute_result",
          "data": {
            "text/plain": [
              "array([[[0.55802604, 0.07270554],\n",
              "        [0.07055596, 0.00933596]],\n",
              "\n",
              "       [[0.25294848, 0.85542869],\n",
              "        [0.01309885, 0.28619142]]])"
            ]
          },
          "metadata": {},
          "execution_count": 11
        }
      ]
    },
    {
      "cell_type": "markdown",
      "id": "13c5928c",
      "metadata": {
        "id": "13c5928c"
      },
      "source": [
        "#### 12. Tasodifiy sonlardan tashkil topgan 9X9 o'lchamidagi massiv yarating. So'ng uning eng katta va eng kichik qiymatlarini toping\n"
      ]
    },
    {
      "cell_type": "markdown",
      "source": [
        "`💡Ishora` min, max"
      ],
      "metadata": {
        "id": "0ede4d26"
      },
      "id": "0ede4d26"
    },
    {
      "cell_type": "code",
      "source": [
        "numbers = np.random.random((9,9))\n",
        "print(numbers.min())\n",
        "print(numbers.max())"
      ],
      "metadata": {
        "id": "OJiVa5K9LJyb",
        "outputId": "0e9a4bd7-790d-4f8c-e4fc-4613228ee916",
        "colab": {
          "base_uri": "https://localhost:8080/"
        }
      },
      "id": "OJiVa5K9LJyb",
      "execution_count": 12,
      "outputs": [
        {
          "output_type": "stream",
          "name": "stdout",
          "text": [
            "0.03164014844411989\n",
            "0.9926294083506053\n"
          ]
        }
      ]
    },
    {
      "cell_type": "markdown",
      "id": "3fa2e461",
      "metadata": {
        "id": "3fa2e461"
      },
      "source": [
        "#### 13. Quyidagi misol qanday natija beradi?\n",
        "\n",
        "\n",
        "```python\n",
        "0 * np.nan\n",
        "np.nan == np.nan\n",
        "np.inf > np.nan\n",
        "np.nan - np.nan\n",
        "np.nan in set([np.nan])\n",
        "0.7 == 7 * 0.1\n",
        "```\n"
      ]
    },
    {
      "cell_type": "code",
      "source": [
        "0 * np.nan\n",
        "np.nan == np.nan\n",
        "np.inf > np.nan\n",
        "np.nan - np.nan\n",
        "np.nan in set([np.nan])\n",
        "0.7 == 7 * 0.1"
      ],
      "metadata": {
        "id": "Y1OCKxW0uHmi",
        "outputId": "f47e20ec-92fb-4e17-e68d-3e1ee9a9a01d",
        "colab": {
          "base_uri": "https://localhost:8080/"
        }
      },
      "id": "Y1OCKxW0uHmi",
      "execution_count": 13,
      "outputs": [
        {
          "output_type": "execute_result",
          "data": {
            "text/plain": [
              "False"
            ]
          },
          "metadata": {},
          "execution_count": 13
        }
      ]
    },
    {
      "cell_type": "markdown",
      "source": [
        "`💡Ishora` NaN = not a number, inf = infinity"
      ],
      "metadata": {
        "id": "c0048e59"
      },
      "id": "c0048e59"
    },
    {
      "cell_type": "code",
      "source": [
        "#Berilgan misollar natijalari quyidagilar:\n",
        "\n",
        "#1. `0 * np.nan`: 0 ni `np.nan` bilan ko'paytirish natijasida doimiy `np.nan` bo'ladi. Bu sababli, `np.nan` bilan amal qiladigan har qanday arifmetik amal natijada `np.nan` (NaN qiymati) hosil qiladi.\n",
        "#   Natija: `nan`\n",
        "\n",
        "#2. `np.nan == np.nan`: Ikki NaN qiymatni tenglik operatori (`==`) bilan solishtirish natijada doimiy False qaytaradi. Bu sababli, NaN \"son emas\" deb hisoblanadi va NaN bilan, undan tashqari, NaN o'ziningga ham teng emas.\n",
        "#   Natija: `False`\n",
        "\n",
        "#3. `np.inf > np.nan`: Infinity (`np.inf`) ni NaN (`np.nan`) bilan solishtirish natijada katta miqyosida False qaytaradi. NaN tartiblangan bo'lmagan deb hisoblanadi, shuning uchun NaN bilan solishtirish barcha natijalar False bo'ladi.\n",
        "#   Natija: `False`\n",
        "\n",
        "#4. `np.nan - np.nan`: Bir NaN qiymatini boshqa bir NaN qiymatidan ayirish natijasida doimiy `np.nan` bo'ladi. Ko'paytirish kabi, np.nan ni o'z ichiga olgan har qanday arifmetik amal natijada `np.nan` hosil qiladi.\n",
        "#   Natija: `nan`\n",
        "\n",
        "#5. `np.nan in set([np.nan])`: `in` operatori, to'plikda a'zo bo'lishni tekshiradi. `np.nan` NaN qiymati bo'lsa ham, u `np.nan` ni o'z ichiga olgan to'plik a'zosi hisoblanadi. Bu sababli, NaN qiymatlari to'plik va lug'atlar ichida a'zo bo'lgan va teng hisoblanadigan bo'lishi mumkin.\n",
        "#   Natija: `True`\n",
        "\n",
        "#6. `0.7 == 7 * 0.1`: Bu solishtirma 0.7 nuqta sanoqqi qiymati va 7 ni 0.1 bilan ko'paytirish natijasiga tengmi yoki emasmi tekshiradi. Sanoq sifatli hisoblashning joriy cheklovlariga asoslanib, natija aniqligi aniq ravishda 0.7 bo'lmasligi mumkin, shuning uchun solishtirma False qaytara oladi.\n",
        "#   Natija: `False`"
      ],
      "metadata": {
        "id": "Thbqd_RCLf_e"
      },
      "id": "Thbqd_RCLf_e",
      "execution_count": 14,
      "outputs": []
    },
    {
      "cell_type": "markdown",
      "id": "73f7a549",
      "metadata": {
        "id": "73f7a549"
      },
      "source": [
        "#### 14. O'lchamlari 6x3 va 3x4 bo'lgan martitsa yarating, so'ng ularning  ko'paytmasini hisoblang.\n",
        "\n"
      ]
    },
    {
      "cell_type": "markdown",
      "source": [
        "`💡Ishora` np.dot` or `np.ones"
      ],
      "metadata": {
        "id": "351ff928"
      },
      "id": "351ff928"
    },
    {
      "cell_type": "code",
      "source": [
        "a = np.ones(shape=(6,3))\n",
        "b = np.ones(shape=(3,4))\n",
        "np.dot(a,b)"
      ],
      "metadata": {
        "id": "e_5QUFcPLtVX",
        "outputId": "521b0102-6b56-46b0-8ba8-51ba76e5d35b",
        "colab": {
          "base_uri": "https://localhost:8080/"
        }
      },
      "id": "e_5QUFcPLtVX",
      "execution_count": 15,
      "outputs": [
        {
          "output_type": "execute_result",
          "data": {
            "text/plain": [
              "array([[3., 3., 3., 3.],\n",
              "       [3., 3., 3., 3.],\n",
              "       [3., 3., 3., 3.],\n",
              "       [3., 3., 3., 3.],\n",
              "       [3., 3., 3., 3.],\n",
              "       [3., 3., 3., 3.]])"
            ]
          },
          "metadata": {},
          "execution_count": 15
        }
      ]
    },
    {
      "cell_type": "markdown",
      "id": "6d0c506f",
      "metadata": {
        "id": "6d0c506f"
      },
      "source": [
        "#### 15. Quyidagi misol qanday natija beradi?\n",
        "\n",
        "```python\n",
        "print(sum(range(5),-1))\n",
        "from numpy import *\n",
        "print(sum(range(5),-1))\n",
        "```"
      ]
    },
    {
      "cell_type": "code",
      "execution_count": 16,
      "id": "c1cc1143",
      "metadata": {
        "id": "c1cc1143",
        "outputId": "0513df72-be23-455d-8ace-873c01406939",
        "colab": {
          "base_uri": "https://localhost:8080/"
        }
      },
      "outputs": [
        {
          "output_type": "stream",
          "name": "stdout",
          "text": [
            "9\n",
            "10\n"
          ]
        }
      ],
      "source": [
        "print(sum(range(5),-1))\n",
        "from numpy import *\n",
        "print(sum(range(5),-1))"
      ]
    },
    {
      "cell_type": "markdown",
      "id": "d6ad1a9f",
      "metadata": {
        "id": "d6ad1a9f"
      },
      "source": [
        "#### 16. NumPy kutubxonasi yordamida ikkita massivni solishtiring va ular usida quyidagi amallarni bajaring.\n",
        "\n",
        "```python\n",
        "Array a: [1 2]\n",
        "Array b: [4 5]\n",
        "a > b\n",
        "[False False]\n",
        "a >= b\n",
        "[False False]\n",
        "a < b\n",
        "[ True True]\n",
        "a <= b\n",
        "[ True True]\n",
        "```"
      ]
    },
    {
      "cell_type": "code",
      "execution_count": 17,
      "id": "7ba3c441",
      "metadata": {
        "id": "7ba3c441",
        "outputId": "969b844e-4fa1-4495-e37b-51754007a690",
        "colab": {
          "base_uri": "https://localhost:8080/"
        }
      },
      "outputs": [
        {
          "output_type": "stream",
          "name": "stdout",
          "text": [
            "False\n",
            "False\n",
            "True\n",
            "True\n"
          ]
        }
      ],
      "source": [
        "a = [1, 2]\n",
        "b = [4, 5]\n",
        "print(a > b)\n",
        "print(a >= b)\n",
        "print(a < b)\n",
        "print(a <= b)"
      ]
    },
    {
      "cell_type": "markdown",
      "id": "e3a7ba7f",
      "metadata": {
        "id": "e3a7ba7f"
      },
      "source": [
        "#### 17. Quyidagi misol qanday natija beradi?\n",
        "\n",
        "```python\n",
        "np.array(0) / np.array(0)\n",
        "np.array(0) // np.array(0)\n",
        "np.array([np.nan]).astype(int).astype(float)\n",
        "```"
      ]
    },
    {
      "cell_type": "code",
      "execution_count": 18,
      "id": "b874734e",
      "metadata": {
        "id": "b874734e",
        "outputId": "88b992dc-b5be-426a-960e-2aff80462d8c",
        "colab": {
          "base_uri": "https://localhost:8080/"
        }
      },
      "outputs": [
        {
          "output_type": "stream",
          "name": "stdout",
          "text": [
            "nan\n",
            "0\n",
            "[-9.22337204e+18]\n"
          ]
        },
        {
          "output_type": "stream",
          "name": "stderr",
          "text": [
            "<ipython-input-18-2a10de0ee61b>:1: RuntimeWarning: invalid value encountered in true_divide\n",
            "  print(np.array(0) / np.array(0))\n",
            "<ipython-input-18-2a10de0ee61b>:2: RuntimeWarning: divide by zero encountered in floor_divide\n",
            "  print(np.array(0) // np.array(0))\n"
          ]
        }
      ],
      "source": [
        "print(np.array(0) / np.array(0))\n",
        "print(np.array(0) // np.array(0))\n",
        "print(np.array([np.nan]).astype(int).astype(float))"
      ]
    },
    {
      "cell_type": "markdown",
      "id": "6d17ab5d",
      "metadata": {
        "id": "6d17ab5d"
      },
      "source": [
        "#### 18. Ikkita massiv yarating va ular orasidagi umumiy qiymatlarni toping\n"
      ]
    },
    {
      "cell_type": "markdown",
      "source": [
        "`💡Ishora` np.intersect1d"
      ],
      "metadata": {
        "id": "4c4e2c5e"
      },
      "id": "4c4e2c5e"
    },
    {
      "cell_type": "code",
      "source": [
        "q = np.random.random(size=None)\n",
        "w = np.random.random(size=None)\n",
        "np.intersect1d(q,w)"
      ],
      "metadata": {
        "id": "Dxz5P8WpMeAP",
        "outputId": "7336959b-ec0d-46af-c98d-b73765927d1e",
        "colab": {
          "base_uri": "https://localhost:8080/"
        }
      },
      "id": "Dxz5P8WpMeAP",
      "execution_count": 19,
      "outputs": [
        {
          "output_type": "execute_result",
          "data": {
            "text/plain": [
              "array([], dtype=float64)"
            ]
          },
          "metadata": {},
          "execution_count": 19
        }
      ]
    },
    {
      "cell_type": "markdown",
      "id": "8837119b",
      "metadata": {
        "id": "8837119b"
      },
      "source": [
        "#### 19. Tasodifiy sonlardan iborat bo'lgan massiv yarating, so'ng ularni quyida berilgan 4 xil usul yordamida musbat sonlarning butun qismini ajratib oling."
      ]
    },
    {
      "cell_type": "markdown",
      "source": [
        "`💡Ishora` %, np.floor, astype, np.trunc"
      ],
      "metadata": {
        "id": "2b05c544"
      },
      "id": "2b05c544"
    },
    {
      "cell_type": "code",
      "source": [
        "import numpy as np\n",
        "np.random.seed(42)\n",
        "array = np.random.randn(10)\n",
        "\n",
        "print(\"Asl array:\")\n",
        "print(array)\n",
        "\n",
        "# Metod 1: Modul operator (%)\n",
        "metod1 = array[array > 0]\n",
        "print(\"\\nMetod 1 (Modul operator) :\")\n",
        "print(metod1)\n",
        "\n",
        "# Metod 2: np.floor()\n",
        "metod2 = np.floor(array[array>0])\n",
        "print(\"\\nMetod 2 (np.floor) :\")\n",
        "print(metod2)\n",
        "\n",
        "# Metod 3: astype()\n",
        "metod3 = (array[array > 0]).astype(int)\n",
        "print(\"\\nMetod 3 (astype) :\")\n",
        "print(metod3)\n",
        "\n",
        "# Metod 4: np.trunc()\n",
        "metod4 = np.trunc(array[array>0])\n",
        "print(\"\\nMetod 4 (np.trunc) :\")\n",
        "print(metod4)"
      ],
      "metadata": {
        "id": "jc6wN5WWMpS3",
        "outputId": "54139f2d-42a0-4fc5-bff6-f3e4008fe2dd",
        "colab": {
          "base_uri": "https://localhost:8080/"
        }
      },
      "id": "jc6wN5WWMpS3",
      "execution_count": 20,
      "outputs": [
        {
          "output_type": "stream",
          "name": "stdout",
          "text": [
            "Asl array:\n",
            "[ 0.49671415 -0.1382643   0.64768854  1.52302986 -0.23415337 -0.23413696\n",
            "  1.57921282  0.76743473 -0.46947439  0.54256004]\n",
            "\n",
            "Metod 1 (Modul operator) :\n",
            "[0.49671415 0.64768854 1.52302986 1.57921282 0.76743473 0.54256004]\n",
            "\n",
            "Metod 2 (np.floor) :\n",
            "[0. 0. 1. 1. 0. 0.]\n",
            "\n",
            "Metod 3 (astype) :\n",
            "[0 0 1 1 0 0]\n",
            "\n",
            "Metod 4 (np.trunc) :\n",
            "[0. 0. 1. 1. 0. 0.]\n"
          ]
        }
      ]
    },
    {
      "cell_type": "markdown",
      "id": "ec788c9f",
      "metadata": {
        "id": "ec788c9f"
      },
      "source": [
        "#### 20. O'lchovlari 3x3 matritsa yarating, ularning qator qiymatlari 0 dan 2 gacha bo'lsin.\n",
        "\n"
      ]
    },
    {
      "cell_type": "markdown",
      "source": [
        "`💡Ishora` np.arange"
      ],
      "metadata": {
        "id": "c3980b2c"
      },
      "id": "c3980b2c"
    },
    {
      "cell_type": "code",
      "source": [
        "np.random.randint(3, size=(3,3))"
      ],
      "metadata": {
        "id": "ycz3jw4bM0Xk",
        "outputId": "27a1b94b-5bda-422d-c3c2-2c724329242c",
        "colab": {
          "base_uri": "https://localhost:8080/"
        }
      },
      "id": "ycz3jw4bM0Xk",
      "execution_count": 21,
      "outputs": [
        {
          "output_type": "execute_result",
          "data": {
            "text/plain": [
              "array([[0, 0, 1],\n",
              "       [1, 0, 0],\n",
              "       [0, 2, 2]])"
            ]
          },
          "metadata": {},
          "execution_count": 21
        }
      ]
    },
    {
      "cell_type": "markdown",
      "id": "391791e0",
      "metadata": {
        "id": "391791e0"
      },
      "source": [
        "#### 21. O'chamlari 10 bo'lgan tasodifiy vektor yarating va uni o'sish tartibida chiqaruvchi dastur tuzing.\n",
        "\n"
      ]
    },
    {
      "cell_type": "markdown",
      "source": [
        "`💡Ishora` sort"
      ],
      "metadata": {
        "id": "ada71c06"
      },
      "id": "ada71c06"
    },
    {
      "cell_type": "code",
      "source": [
        "onlik = np.random.rand(10)\n",
        "tartiblanganlar = np.sort(onlik)\n",
        "tartiblanganlar"
      ],
      "metadata": {
        "id": "TPMqaavROM7g",
        "outputId": "25e0c655-5f9a-4a3e-983c-f48f27f0b082",
        "colab": {
          "base_uri": "https://localhost:8080/"
        }
      },
      "id": "TPMqaavROM7g",
      "execution_count": 22,
      "outputs": [
        {
          "output_type": "execute_result",
          "data": {
            "text/plain": [
              "array([0.04666566, 0.09060643, 0.23277134, 0.38246199, 0.39986097,\n",
              "       0.46676289, 0.61838601, 0.85994041, 0.97375552, 0.98323089])"
            ]
          },
          "metadata": {},
          "execution_count": 22
        }
      ]
    },
    {
      "cell_type": "markdown",
      "id": "1e74d39e",
      "metadata": {
        "id": "1e74d39e"
      },
      "source": [
        "#### 22. Ikki tasodifiy A va B massiv yarating, ularning tengligini tekshiring"
      ]
    },
    {
      "cell_type": "markdown",
      "source": [
        "`💡Ishora` np.allclose, np.array_equal"
      ],
      "metadata": {
        "id": "eb0e066c"
      },
      "id": "eb0e066c"
    },
    {
      "cell_type": "code",
      "source": [
        "A = np.random.rand()\n",
        "B = np.random.rand()\n",
        "np.allclose(A,B)\n"
      ],
      "metadata": {
        "id": "xHNWNZnwOT1r",
        "outputId": "d11fdbea-4a26-4750-cdb6-6586177d08dd",
        "colab": {
          "base_uri": "https://localhost:8080/"
        }
      },
      "id": "xHNWNZnwOT1r",
      "execution_count": 23,
      "outputs": [
        {
          "output_type": "execute_result",
          "data": {
            "text/plain": [
              "False"
            ]
          },
          "metadata": {},
          "execution_count": 23
        }
      ]
    },
    {
      "cell_type": "markdown",
      "id": "78250c14",
      "metadata": {
        "id": "78250c14"
      },
      "source": [
        "#### 23. O'lchamlari 6x3 va 3x4 matritsa tuzing va ularni o'zaro ko'paytiring.\n"
      ]
    },
    {
      "cell_type": "markdown",
      "source": [
        "`💡Ishora` np.dot or np.ones"
      ],
      "metadata": {
        "id": "2e482afe"
      },
      "id": "2e482afe"
    },
    {
      "cell_type": "code",
      "source": [
        "z = np.random.rand(6,3)\n",
        "x = np.random.rand(3,4)\n",
        "np.dot(z,x)"
      ],
      "metadata": {
        "id": "ZRlMgdT9POgS",
        "outputId": "653dbc78-0119-454a-800d-ae3f99782a9b",
        "colab": {
          "base_uri": "https://localhost:8080/"
        }
      },
      "id": "ZRlMgdT9POgS",
      "execution_count": 12,
      "outputs": [
        {
          "output_type": "execute_result",
          "data": {
            "text/plain": [
              "array([[0.41639736, 0.3757161 , 0.63814162, 0.9631171 ],\n",
              "       [0.55481349, 0.76158124, 0.41761677, 0.36277429],\n",
              "       [0.53975374, 0.68620665, 0.42643581, 0.36250006],\n",
              "       [0.50105978, 0.45861592, 0.59828877, 0.72310823],\n",
              "       [0.48903686, 0.49449444, 0.62100914, 0.83885173],\n",
              "       [0.57787667, 0.55353249, 0.66937263, 0.79957383]])"
            ]
          },
          "metadata": {},
          "execution_count": 12
        }
      ]
    },
    {
      "cell_type": "markdown",
      "id": "51898680",
      "metadata": {
        "id": "51898680"
      },
      "source": [
        "#### 24. Tasodifiy sonlardan iborat bo'lgan o'lchami 5 ga teng vektor yarating, so'ng uning eng katta qiymatini 0 ga o'zgartiring.\n"
      ]
    },
    {
      "cell_type": "markdown",
      "source": [
        "`💡Ishora` argmax"
      ],
      "metadata": {
        "id": "ee92ccaf"
      },
      "id": "ee92ccaf"
    },
    {
      "cell_type": "code",
      "source": [
        "vector1 = np.random.rand(5)\n",
        "print(vector1)\n",
        "the_bigest = np.argmax(vector1)*0\n",
        "print(the_bigest)"
      ],
      "metadata": {
        "id": "v9DvyaTNPk_t",
        "outputId": "47c06205-ecfa-4d0e-b570-eb5ed37fe291",
        "colab": {
          "base_uri": "https://localhost:8080/"
        }
      },
      "id": "v9DvyaTNPk_t",
      "execution_count": 16,
      "outputs": [
        {
          "output_type": "stream",
          "name": "stdout",
          "text": [
            "[0.04097125 0.87674055 0.60901151 0.68975279 0.25081687]\n",
            "0\n"
          ]
        }
      ]
    },
    {
      "cell_type": "markdown",
      "id": "129c342d",
      "metadata": {
        "id": "129c342d"
      },
      "source": [
        "#### 25. NumPy kutubxonasi yordamida kecha, bugun va ertangi kun sanalarini aniqlang.\n"
      ]
    },
    {
      "cell_type": "markdown",
      "source": [
        "`💡Ishora` np.datetime64, np.timedelta64"
      ],
      "metadata": {
        "id": "0fd2f947"
      },
      "id": "0fd2f947"
    },
    {
      "cell_type": "code",
      "source": [
        "import numpy as np\n",
        "\n",
        "# Bugungi kunni topish\n",
        "bugun = np.datetime64('today', 'D')\n",
        "\n",
        "# Kechagi kunni hisoblash\n",
        "kecha = bugun - np.timedelta64(1, 'D')\n",
        "\n",
        "# Ertaga kunni hisoblash\n",
        "ertaga = bugun + np.timedelta64(1, 'D')\n",
        "\n",
        "# Javoblarni chop etish\n",
        "print(\"Kechagi kun:\", kecha)\n",
        "print(\"Bugungi kun:\", bugun)\n",
        "print(\"Ertangi kun:\", ertaga)\n"
      ],
      "metadata": {
        "id": "MuGqy93vf4dm",
        "outputId": "e49f392c-723f-4f56-aa98-3138da003b7c",
        "colab": {
          "base_uri": "https://localhost:8080/"
        }
      },
      "id": "MuGqy93vf4dm",
      "execution_count": 1,
      "outputs": [
        {
          "output_type": "stream",
          "name": "stdout",
          "text": [
            "Kechagi kun: 2023-07-15\n",
            "Bugungi kun: 2023-07-16\n",
            "Ertangi kun: 2023-07-17\n"
          ]
        }
      ]
    },
    {
      "cell_type": "markdown",
      "id": "42f8b2f9",
      "metadata": {
        "id": "42f8b2f9"
      },
      "source": [
        "#### 26. 2016 yil yanvar oyiga to'g'ri keladigan barcha sanalarni NumPy kutubxonasi yordamida aniqlang.\n"
      ]
    },
    {
      "cell_type": "markdown",
      "source": [
        "`💡Ishora` np.arange(dtype=datetime64['D'])"
      ],
      "metadata": {
        "id": "SU1BWcA8Sw2M"
      },
      "id": "SU1BWcA8Sw2M"
    },
    {
      "cell_type": "code",
      "execution_count": 28,
      "id": "5ad086b0",
      "metadata": {
        "id": "5ad086b0",
        "outputId": "867c167e-bea4-4d8a-8b9b-26c5bfa363d9",
        "colab": {
          "base_uri": "https://localhost:8080/"
        }
      },
      "outputs": [
        {
          "output_type": "stream",
          "name": "stdout",
          "text": [
            "['2016-01-01' '2016-01-02' '2016-01-03' '2016-01-04' '2016-01-05'\n",
            " '2016-01-06' '2016-01-07' '2016-01-08' '2016-01-09' '2016-01-10'\n",
            " '2016-01-11' '2016-01-12' '2016-01-13' '2016-01-14' '2016-01-15'\n",
            " '2016-01-16' '2016-01-17' '2016-01-18' '2016-01-19' '2016-01-20'\n",
            " '2016-01-21' '2016-01-22' '2016-01-23' '2016-01-24' '2016-01-25'\n",
            " '2016-01-26' '2016-01-27' '2016-01-28' '2016-01-29' '2016-01-30']\n"
          ]
        }
      ],
      "source": [
        "kunlar = np.arange(np.datetime64('2016-01-01'),np.datetime64('2016-01-31'))\n",
        "print(kunlar)"
      ]
    },
    {
      "cell_type": "markdown",
      "id": "486df8ea",
      "metadata": {
        "id": "486df8ea"
      },
      "source": [
        "#### 27. 4 xil usul yordamida musbat sonlarning tasodifiy massivining butun son qismini ajratib oling.\n"
      ]
    },
    {
      "cell_type": "markdown",
      "source": [
        "`💡Ishora` %, np.floor, astype, np.trunc`"
      ],
      "metadata": {
        "id": "h4QM3bp9TDhb"
      },
      "id": "h4QM3bp9TDhb"
    },
    {
      "cell_type": "code",
      "source": [
        "array = np.random.rand(10)*10\n",
        "\n",
        "print(\"Asl array:\")\n",
        "print(array)\n",
        "\n",
        "# Birinchi usul: %\n",
        "usul1 = array % 1\n",
        "print(\"\\nUsul 1 (%):\")\n",
        "print(usul1)\n",
        "\n",
        "# Ikkinchi usul: np.floor()\n",
        "usul2 = np.floor(array)\n",
        "print(\"\\nUsul 2 (np.floor()):\")\n",
        "print(usul2)\n",
        "\n",
        "# Uchinchi usul: astype(int)\n",
        "usul3 = array.astype(int)\n",
        "print(\"\\nUsul 3 (astype(int)):\")\n",
        "print(usul3)\n",
        "\n",
        "# To`rtinchi usul: np.trunc()\n",
        "usul4 = np.trunc(array)\n",
        "print(\"\\nUsul 4 (np.trunc()):\")\n",
        "print(usul4)"
      ],
      "metadata": {
        "id": "tgj3GOpyEjO4",
        "outputId": "234487d4-d842-42c1-ef99-23e64b1f8ed8",
        "colab": {
          "base_uri": "https://localhost:8080/"
        }
      },
      "id": "tgj3GOpyEjO4",
      "execution_count": 2,
      "outputs": [
        {
          "output_type": "stream",
          "name": "stdout",
          "text": [
            "Asl array:\n",
            "[2.84252327 7.30712612 2.4284728  5.17117371 4.64931637 2.88216349\n",
            " 5.41102301 9.93507382 0.52121286 6.03154993]\n",
            "\n",
            "Usul 1 (%):\n",
            "[0.84252327 0.30712612 0.4284728  0.17117371 0.64931637 0.88216349\n",
            " 0.41102301 0.93507382 0.52121286 0.03154993]\n",
            "\n",
            "Usul 2 (np.floor()):\n",
            "[2. 7. 2. 5. 4. 2. 5. 9. 0. 6.]\n",
            "\n",
            "Usul 3 (astype(int)):\n",
            "[2 7 2 5 4 2 5 9 0 6]\n",
            "\n",
            "Usul 4 (np.trunc()):\n",
            "[2. 7. 2. 5. 4. 2. 5. 9. 0. 6.]\n"
          ]
        }
      ]
    },
    {
      "cell_type": "markdown",
      "id": "6415f02e",
      "metadata": {
        "id": "6415f02e"
      },
      "source": [
        "#### 28. Ixtiyoriy kichik massivlar yarating, ular yeg'indisini np.sum funksiyasidanda tezroq hisoblovchi dastur tuzing.\n"
      ]
    },
    {
      "cell_type": "markdown",
      "source": [
        "`💡Ishora` np.add.reduce"
      ],
      "metadata": {
        "id": "129e785f"
      },
      "id": "129e785f"
    },
    {
      "cell_type": "code",
      "source": [
        "massiv1 = np.arange(3)\n",
        "jami = np.add.reduce(massiv1)\n",
        "print(jami)"
      ],
      "metadata": {
        "id": "M0Xv2bB9VYQZ",
        "outputId": "29e36171-0273-4fb6-b894-cca8ad3e6c8b",
        "colab": {
          "base_uri": "https://localhost:8080/"
        }
      },
      "id": "M0Xv2bB9VYQZ",
      "execution_count": 20,
      "outputs": [
        {
          "output_type": "stream",
          "name": "stdout",
          "text": [
            "3\n"
          ]
        }
      ]
    },
    {
      "cell_type": "markdown",
      "id": "58be9dd4",
      "metadata": {
        "id": "58be9dd4"
      },
      "source": [
        "#### 29. [1, 2, 3, 4, 5] vektor berilgan, har bir qiymat orasiga ketma-ket 3 ta nol raqamini yozuvchi dastur tuzing.\n"
      ]
    },
    {
      "cell_type": "markdown",
      "source": [
        "`💡Ishora` array[::4]"
      ],
      "metadata": {
        "id": "9cf9e134"
      },
      "id": "9cf9e134"
    },
    {
      "cell_type": "code",
      "source": [
        "vektor = [1, 2, 3, 4, 5]\n",
        "javob = []\n",
        "\n",
        "for raqam in vektor:\n",
        "    javob.extend([raqam, 0, 0, 0])\n",
        "\n",
        "# Ohirgi 3 noni olib tashlaymiz\n",
        "javob = javob[:-3]\n",
        "\n",
        "print(javob)\n"
      ],
      "metadata": {
        "id": "04IuJ2jaZeYu",
        "outputId": "968c22c6-d2f9-420c-8f94-20be9c2089b2",
        "colab": {
          "base_uri": "https://localhost:8080/"
        }
      },
      "id": "04IuJ2jaZeYu",
      "execution_count": 31,
      "outputs": [
        {
          "output_type": "stream",
          "name": "stdout",
          "text": [
            "[1, 0, 0, 0, 2, 0, 0, 0, 3, 0, 0, 0, 4, 0, 0, 0, 5]\n"
          ]
        }
      ]
    },
    {
      "cell_type": "markdown",
      "id": "781fa236",
      "metadata": {
        "id": "781fa236"
      },
      "source": [
        "#### 30. Quyidagi a massiv berilgan, a = [1,2,3,4,5,6,7,8,9,10,11,12,13,14] undan foydalangan holda siz quyidagi b massivni yarata olasizmi, b = [[1,2,3,4], [2,3,4,5], [3,4,5,6], ..., [11,12,13,14]]?\n"
      ]
    },
    {
      "cell_type": "markdown",
      "source": [
        "`💡Ishora` stride_tricks.as_strided"
      ],
      "metadata": {
        "id": "82e3d17e"
      },
      "id": "82e3d17e"
    },
    {
      "cell_type": "code",
      "source": [
        "from numpy.lib.stride_tricks import as_strided\n",
        "\n",
        "# array tuzish\n",
        "a = [1,2,3,4,5,6,7,8,9,10,11,12,13,14]\n",
        "a = np.array(a)\n",
        "\n",
        "# O`lchamni kiritish\n",
        "olcham = 4\n",
        "\n",
        "# Yangi oyna ko'rinishi uchun yangi shakl va qadamlarni hisoblang\n",
        "shakl = (a.size - olcham + 1, olcham)\n",
        "qadamlar = (a.itemsize, a.itemsize)\n",
        "\n",
        "# Yangi array\n",
        "b = as_strided(a, shape = shakl, strides = qadamlar)\n",
        "print(b)"
      ],
      "metadata": {
        "id": "S1H6ivCua3NZ",
        "outputId": "00155fab-09ec-41d7-d40d-d5f29f252cc4",
        "colab": {
          "base_uri": "https://localhost:8080/"
        }
      },
      "id": "S1H6ivCua3NZ",
      "execution_count": 11,
      "outputs": [
        {
          "output_type": "stream",
          "name": "stdout",
          "text": [
            "[[ 1  2  3  4]\n",
            " [ 2  3  4  5]\n",
            " [ 3  4  5  6]\n",
            " [ 4  5  6  7]\n",
            " [ 5  6  7  8]\n",
            " [ 6  7  8  9]\n",
            " [ 7  8  9 10]\n",
            " [ 8  9 10 11]\n",
            " [ 9 10 11 12]\n",
            " [10 11 12 13]\n",
            " [11 12 13 14]]\n"
          ]
        }
      ]
    },
    {
      "cell_type": "markdown",
      "id": "7d8dc135",
      "metadata": {
        "id": "7d8dc135"
      },
      "source": [
        "#### 31. Ixtiyoriy sonlardan tashkil topgan massiv yarating, unga o'xshash qiymatlar kiriting. So'ng, o'xshash qiymatlarni topuvchi dastur tuzing.\n"
      ]
    },
    {
      "cell_type": "markdown",
      "source": [
        "`💡Ishora` np.bincount, argmax"
      ],
      "metadata": {
        "id": "81844e99"
      },
      "id": "81844e99"
    },
    {
      "cell_type": "code",
      "source": [
        "import numpy as np\n",
        "\n",
        "def create_array(length):\n",
        "  \"\"\"Yasalgan arrayni uzunligini random raqamlar orqali topiladi\"\"\"\n",
        "  array = []\n",
        "  for i in range(length):\n",
        "    array.append(random.randint(0, 100))\n",
        "  return array\n",
        "\n",
        "def find_similar_values(array):\n",
        "  \"\"\"O`xshash qiymatlarni np.bincount va argmax orqalik topaylik.\"\"\"\n",
        "  counts = np.bincount(array)\n",
        "  similar_values = []\n",
        "  for i in range(len(counts)):\n",
        "    if counts[i] > 1:\n",
        "      similar_values.append(i)\n",
        "  return similar_values\n",
        "\n",
        "array = create_array(10)\n",
        "print(array)\n",
        "similar_values = find_similar_values(array)\n",
        "print(similar_values)\n"
      ],
      "metadata": {
        "id": "f9lh3Pybr1JU",
        "outputId": "2a8731a2-bd98-4f64-a212-cf8712cd6fc0",
        "colab": {
          "base_uri": "https://localhost:8080/"
        }
      },
      "id": "f9lh3Pybr1JU",
      "execution_count": 33,
      "outputs": [
        {
          "output_type": "stream",
          "name": "stdout",
          "text": [
            "[1, 83, 91, 59, 70, 43, 7, 46, 34, 77]\n",
            "[]\n"
          ]
        }
      ]
    },
    {
      "cell_type": "markdown",
      "source": [
        "#### BONUS!\n",
        "\n",
        "`💡O'zingiz javob berishni istagan savolni kiriting va unga javob bering!`"
      ],
      "metadata": {
        "id": "URzxwwODb0m_"
      },
      "id": "URzxwwODb0m_"
    },
    {
      "cell_type": "code",
      "source": [
        "import numpy as np\n",
        "# Numpy yordamida unit testing!\n",
        "from numpy.testing import assert_allclose\n",
        "\n",
        "arr1 = np.array([0.1, 0.2, 0.3])\n",
        "arr2 = np.array([0.10002, 0.8888, 0.31222])\n",
        "assert_allclose(arr1, arr2, rtol=1e+4)  # No error will be raised\n",
        "\n",
        "arr3 = np.array([0.1, 0.2, 0.3])\n",
        "assert_allclose(arr1, arr3, rtol=1e-5)  # AssertionError: Not all elements are close\n"
      ],
      "metadata": {
        "id": "9xpR0GVrbzuk"
      },
      "id": "9xpR0GVrbzuk",
      "execution_count": 25,
      "outputs": []
    },
    {
      "cell_type": "code",
      "source": [],
      "metadata": {
        "id": "RMWQnPO8C5gP"
      },
      "id": "RMWQnPO8C5gP",
      "execution_count": null,
      "outputs": []
    }
  ],
  "metadata": {
    "hide_input": false,
    "kernelspec": {
      "display_name": "Python 3",
      "language": "python",
      "name": "python3"
    },
    "language_info": {
      "codemirror_mode": {
        "name": "ipython",
        "version": 3
      },
      "file_extension": ".py",
      "mimetype": "text/x-python",
      "name": "python",
      "nbconvert_exporter": "python",
      "pygments_lexer": "ipython3",
      "version": "3.8.8"
    },
    "toc": {
      "base_numbering": 1,
      "nav_menu": {},
      "number_sections": true,
      "sideBar": true,
      "skip_h1_title": false,
      "title_cell": "Table of Contents",
      "title_sidebar": "Contents",
      "toc_cell": false,
      "toc_position": {},
      "toc_section_display": true,
      "toc_window_display": false
    },
    "varInspector": {
      "cols": {
        "lenName": 16,
        "lenType": 16,
        "lenVar": 40
      },
      "kernels_config": {
        "python": {
          "delete_cmd_postfix": "",
          "delete_cmd_prefix": "del ",
          "library": "var_list.py",
          "varRefreshCmd": "print(var_dic_list())"
        },
        "r": {
          "delete_cmd_postfix": ") ",
          "delete_cmd_prefix": "rm(",
          "library": "var_list.r",
          "varRefreshCmd": "cat(var_dic_list()) "
        }
      },
      "types_to_exclude": [
        "module",
        "function",
        "builtin_function_or_method",
        "instance",
        "_Feature"
      ],
      "window_display": false
    },
    "colab": {
      "provenance": [],
      "include_colab_link": true
    }
  },
  "nbformat": 4,
  "nbformat_minor": 5
}