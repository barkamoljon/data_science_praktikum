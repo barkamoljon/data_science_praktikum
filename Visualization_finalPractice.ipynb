{
  "nbformat": 4,
  "nbformat_minor": 0,
  "metadata": {
    "colab": {
      "provenance": [],
      "collapsed_sections": [],
      "include_colab_link": true
    },
    "kernelspec": {
      "name": "python3",
      "display_name": "Python 3"
    },
    "language_info": {
      "name": "python"
    }
  },
  "cells": [
    {
      "cell_type": "markdown",
      "metadata": {
        "id": "view-in-github",
        "colab_type": "text"
      },
      "source": [
        "<a href=\"https://colab.research.google.com/github/barkamoljon/data_science_praktikum/blob/main/Visualization_finalPractice.ipynb\" target=\"_parent\"><img src=\"https://colab.research.google.com/assets/colab-badge.svg\" alt=\"Open In Colab\"/></a>"
      ]
    },
    {
      "cell_type": "markdown",
      "source": [
        "![Imgur](https://i.imgur.com/5pXzCIu.png)\n",
        "\n",
        "# Data Science va Sun'iy Intellekt Praktikum\n",
        "\n",
        "## 4-MODUL. VIZUALIZASIYA\n",
        "\n",
        "## Yakuniy amaliyot. `matplotlib`\n"
      ],
      "metadata": {
        "id": "NH59l9byvNyt"
      }
    },
    {
      "cell_type": "code",
      "execution_count": null,
      "metadata": {
        "id": "kr8VZeHIrvu_"
      },
      "outputs": [],
      "source": [
        "import numpy as np\n",
        "import pandas as pd\n",
        "\n",
        "import matplotlib.pyplot as plt\n",
        "%matplotlib inline\n",
        "import seaborn as sns\n",
        "sns.set()"
      ]
    },
    {
      "cell_type": "markdown",
      "source": [
        "XYZ kompaniyasi taxminan 4000 ishchi xodim ishlaydi va afsuski har yili xodimlarning 15% ga yaqini o'z xohishlari bilan yoki kompaniya tomonidan ishdan bo'shatiladi va yana yangi xodim ishga olinadi. Bu esa kompaniya uchun bir qancha noqulayliklar tug'diradi (loyihalar sekinlashishi, ishga qabul qilish jarayoni uzoqligi, yangi ishchi ko'nikishi uchun treninglar va ma'lum vaqt kerakligi). Ishchilarni saqlab qolish uchun kompaniya HR tahlil qilib ko'rishga qaror qildi va quyidagi datasetdan foydalanib, qanday faktorlar ishchilarni bo'shashiga sabab bo'lishini tahlil qilishgan.\n",
        "Dataset ustun nomlari:\n",
        "\n",
        "1.   Age - yoshi\n",
        "2.   Attrition - ishdan bo'shaganmi\n",
        "3.   BusinessTravel - komandirovka\n",
        "4.   DistanceFromHome - uydan ishgacha bo'lgan masofa (km)\n",
        "5.   Education - Ta'lim\n",
        "6.   Gender - jinsi\n",
        "7.   MaritalStatus - oilaviy holati\n",
        "\n",
        "\n",
        "<a href=\"https://ibb.co/sR5zPJV\"><img src=\"https://i.ibb.co/g9vh7FR/hr.png\" alt=\"hr\" border=\"0\" style=\"width:100%\"></a>\n"
      ],
      "metadata": {
        "id": "zFN8W2-LujYc"
      }
    },
    {
      "cell_type": "code",
      "source": [
        "#@title QUYIDAGI KODGA TEGMANG!!! \n",
        "import ssl\n",
        "ssl._create_default_https_context = ssl._create_unverified_context"
      ],
      "metadata": {
        "id": "kROQyqEcwjDQ",
        "cellView": "form"
      },
      "execution_count": null,
      "outputs": []
    },
    {
      "cell_type": "markdown",
      "source": [
        "## 1-VAZIFA: Quyidagi CSV fayl linkidan foydalaning \n",
        "### - va ma'lumotlarni \"data\" nomli o'zgaruvchiga biriktiring \n",
        "### - hamda 'EmployeeCount','EmployeeID','StandardHours' ustunlari ortiqchaligi sababli o'chirib tashlang\n",
        "\n",
        "### LINK: https://raw.githubusercontent.com/mukhammad-irmatov/health_dataset/main/hr_dataset.csv"
      ],
      "metadata": {
        "id": "uIzfpkaK3bQW"
      }
    },
    {
      "cell_type": "code",
      "source": [
        "# JAVOBNI SHUYERGA YOZING\n",
        "data = pd.read_csv('https://raw.githubusercontent.com/mukhammad-irmatov/health_dataset/main/hr_dataset.csv')\n",
        "data.drop(labels=['EmployeeCount','EmployeeID','StandardHours'],axis = 1,inplace=True)\n",
        "data.head()"
      ],
      "metadata": {
        "id": "JPzzo4-Ut1tu",
        "outputId": "9dbd5b4e-466e-4f40-8353-fd202604b7fd",
        "colab": {
          "base_uri": "https://localhost:8080/",
          "height": 387
        }
      },
      "execution_count": null,
      "outputs": [
        {
          "output_type": "execute_result",
          "data": {
            "text/plain": [
              "   Age Attrition     BusinessTravel              Department  DistanceFromHome  \\\n",
              "0   51        No      Travel_Rarely                   Sales                 6   \n",
              "1   31       Yes  Travel_Frequently  Research & Development                10   \n",
              "2   32        No  Travel_Frequently  Research & Development                17   \n",
              "3   38        No         Non-Travel  Research & Development                 2   \n",
              "4   32        No      Travel_Rarely  Research & Development                10   \n",
              "\n",
              "   Education EducationField  Gender  JobLevel                    JobRole  ...  \\\n",
              "0          2  Life Sciences  Female         1  Healthcare Representative  ...   \n",
              "1          1  Life Sciences  Female         1         Research Scientist  ...   \n",
              "2          4          Other    Male         4            Sales Executive  ...   \n",
              "3          5  Life Sciences    Male         3            Human Resources  ...   \n",
              "4          1        Medical    Male         1            Sales Executive  ...   \n",
              "\n",
              "  MonthlyIncome  NumCompaniesWorked  Over18 PercentSalaryHike  \\\n",
              "0        131160                 1.0       Y                11   \n",
              "1         41890                 0.0       Y                23   \n",
              "2        193280                 1.0       Y                15   \n",
              "3         83210                 3.0       Y                11   \n",
              "4         23420                 4.0       Y                12   \n",
              "\n",
              "   StockOptionLevel  TotalWorkingYears  TrainingTimesLastYear  YearsAtCompany  \\\n",
              "0                 0                1.0                      6               1   \n",
              "1                 1                6.0                      3               5   \n",
              "2                 3                5.0                      2               5   \n",
              "3                 3               13.0                      5               8   \n",
              "4                 2                9.0                      2               6   \n",
              "\n",
              "   YearsSinceLastPromotion  YearsWithCurrManager  \n",
              "0                        0                     0  \n",
              "1                        1                     4  \n",
              "2                        0                     3  \n",
              "3                        7                     5  \n",
              "4                        0                     4  \n",
              "\n",
              "[5 rows x 21 columns]"
            ],
            "text/html": [
              "\n",
              "  <div id=\"df-331ea31c-0577-45ae-a289-2cd1815a4d10\">\n",
              "    <div class=\"colab-df-container\">\n",
              "      <div>\n",
              "<style scoped>\n",
              "    .dataframe tbody tr th:only-of-type {\n",
              "        vertical-align: middle;\n",
              "    }\n",
              "\n",
              "    .dataframe tbody tr th {\n",
              "        vertical-align: top;\n",
              "    }\n",
              "\n",
              "    .dataframe thead th {\n",
              "        text-align: right;\n",
              "    }\n",
              "</style>\n",
              "<table border=\"1\" class=\"dataframe\">\n",
              "  <thead>\n",
              "    <tr style=\"text-align: right;\">\n",
              "      <th></th>\n",
              "      <th>Age</th>\n",
              "      <th>Attrition</th>\n",
              "      <th>BusinessTravel</th>\n",
              "      <th>Department</th>\n",
              "      <th>DistanceFromHome</th>\n",
              "      <th>Education</th>\n",
              "      <th>EducationField</th>\n",
              "      <th>Gender</th>\n",
              "      <th>JobLevel</th>\n",
              "      <th>JobRole</th>\n",
              "      <th>...</th>\n",
              "      <th>MonthlyIncome</th>\n",
              "      <th>NumCompaniesWorked</th>\n",
              "      <th>Over18</th>\n",
              "      <th>PercentSalaryHike</th>\n",
              "      <th>StockOptionLevel</th>\n",
              "      <th>TotalWorkingYears</th>\n",
              "      <th>TrainingTimesLastYear</th>\n",
              "      <th>YearsAtCompany</th>\n",
              "      <th>YearsSinceLastPromotion</th>\n",
              "      <th>YearsWithCurrManager</th>\n",
              "    </tr>\n",
              "  </thead>\n",
              "  <tbody>\n",
              "    <tr>\n",
              "      <th>0</th>\n",
              "      <td>51</td>\n",
              "      <td>No</td>\n",
              "      <td>Travel_Rarely</td>\n",
              "      <td>Sales</td>\n",
              "      <td>6</td>\n",
              "      <td>2</td>\n",
              "      <td>Life Sciences</td>\n",
              "      <td>Female</td>\n",
              "      <td>1</td>\n",
              "      <td>Healthcare Representative</td>\n",
              "      <td>...</td>\n",
              "      <td>131160</td>\n",
              "      <td>1.0</td>\n",
              "      <td>Y</td>\n",
              "      <td>11</td>\n",
              "      <td>0</td>\n",
              "      <td>1.0</td>\n",
              "      <td>6</td>\n",
              "      <td>1</td>\n",
              "      <td>0</td>\n",
              "      <td>0</td>\n",
              "    </tr>\n",
              "    <tr>\n",
              "      <th>1</th>\n",
              "      <td>31</td>\n",
              "      <td>Yes</td>\n",
              "      <td>Travel_Frequently</td>\n",
              "      <td>Research &amp; Development</td>\n",
              "      <td>10</td>\n",
              "      <td>1</td>\n",
              "      <td>Life Sciences</td>\n",
              "      <td>Female</td>\n",
              "      <td>1</td>\n",
              "      <td>Research Scientist</td>\n",
              "      <td>...</td>\n",
              "      <td>41890</td>\n",
              "      <td>0.0</td>\n",
              "      <td>Y</td>\n",
              "      <td>23</td>\n",
              "      <td>1</td>\n",
              "      <td>6.0</td>\n",
              "      <td>3</td>\n",
              "      <td>5</td>\n",
              "      <td>1</td>\n",
              "      <td>4</td>\n",
              "    </tr>\n",
              "    <tr>\n",
              "      <th>2</th>\n",
              "      <td>32</td>\n",
              "      <td>No</td>\n",
              "      <td>Travel_Frequently</td>\n",
              "      <td>Research &amp; Development</td>\n",
              "      <td>17</td>\n",
              "      <td>4</td>\n",
              "      <td>Other</td>\n",
              "      <td>Male</td>\n",
              "      <td>4</td>\n",
              "      <td>Sales Executive</td>\n",
              "      <td>...</td>\n",
              "      <td>193280</td>\n",
              "      <td>1.0</td>\n",
              "      <td>Y</td>\n",
              "      <td>15</td>\n",
              "      <td>3</td>\n",
              "      <td>5.0</td>\n",
              "      <td>2</td>\n",
              "      <td>5</td>\n",
              "      <td>0</td>\n",
              "      <td>3</td>\n",
              "    </tr>\n",
              "    <tr>\n",
              "      <th>3</th>\n",
              "      <td>38</td>\n",
              "      <td>No</td>\n",
              "      <td>Non-Travel</td>\n",
              "      <td>Research &amp; Development</td>\n",
              "      <td>2</td>\n",
              "      <td>5</td>\n",
              "      <td>Life Sciences</td>\n",
              "      <td>Male</td>\n",
              "      <td>3</td>\n",
              "      <td>Human Resources</td>\n",
              "      <td>...</td>\n",
              "      <td>83210</td>\n",
              "      <td>3.0</td>\n",
              "      <td>Y</td>\n",
              "      <td>11</td>\n",
              "      <td>3</td>\n",
              "      <td>13.0</td>\n",
              "      <td>5</td>\n",
              "      <td>8</td>\n",
              "      <td>7</td>\n",
              "      <td>5</td>\n",
              "    </tr>\n",
              "    <tr>\n",
              "      <th>4</th>\n",
              "      <td>32</td>\n",
              "      <td>No</td>\n",
              "      <td>Travel_Rarely</td>\n",
              "      <td>Research &amp; Development</td>\n",
              "      <td>10</td>\n",
              "      <td>1</td>\n",
              "      <td>Medical</td>\n",
              "      <td>Male</td>\n",
              "      <td>1</td>\n",
              "      <td>Sales Executive</td>\n",
              "      <td>...</td>\n",
              "      <td>23420</td>\n",
              "      <td>4.0</td>\n",
              "      <td>Y</td>\n",
              "      <td>12</td>\n",
              "      <td>2</td>\n",
              "      <td>9.0</td>\n",
              "      <td>2</td>\n",
              "      <td>6</td>\n",
              "      <td>0</td>\n",
              "      <td>4</td>\n",
              "    </tr>\n",
              "  </tbody>\n",
              "</table>\n",
              "<p>5 rows × 21 columns</p>\n",
              "</div>\n",
              "      <button class=\"colab-df-convert\" onclick=\"convertToInteractive('df-331ea31c-0577-45ae-a289-2cd1815a4d10')\"\n",
              "              title=\"Convert this dataframe to an interactive table.\"\n",
              "              style=\"display:none;\">\n",
              "        \n",
              "  <svg xmlns=\"http://www.w3.org/2000/svg\" height=\"24px\"viewBox=\"0 0 24 24\"\n",
              "       width=\"24px\">\n",
              "    <path d=\"M0 0h24v24H0V0z\" fill=\"none\"/>\n",
              "    <path d=\"M18.56 5.44l.94 2.06.94-2.06 2.06-.94-2.06-.94-.94-2.06-.94 2.06-2.06.94zm-11 1L8.5 8.5l.94-2.06 2.06-.94-2.06-.94L8.5 2.5l-.94 2.06-2.06.94zm10 10l.94 2.06.94-2.06 2.06-.94-2.06-.94-.94-2.06-.94 2.06-2.06.94z\"/><path d=\"M17.41 7.96l-1.37-1.37c-.4-.4-.92-.59-1.43-.59-.52 0-1.04.2-1.43.59L10.3 9.45l-7.72 7.72c-.78.78-.78 2.05 0 2.83L4 21.41c.39.39.9.59 1.41.59.51 0 1.02-.2 1.41-.59l7.78-7.78 2.81-2.81c.8-.78.8-2.07 0-2.86zM5.41 20L4 18.59l7.72-7.72 1.47 1.35L5.41 20z\"/>\n",
              "  </svg>\n",
              "      </button>\n",
              "      \n",
              "  <style>\n",
              "    .colab-df-container {\n",
              "      display:flex;\n",
              "      flex-wrap:wrap;\n",
              "      gap: 12px;\n",
              "    }\n",
              "\n",
              "    .colab-df-convert {\n",
              "      background-color: #E8F0FE;\n",
              "      border: none;\n",
              "      border-radius: 50%;\n",
              "      cursor: pointer;\n",
              "      display: none;\n",
              "      fill: #1967D2;\n",
              "      height: 32px;\n",
              "      padding: 0 0 0 0;\n",
              "      width: 32px;\n",
              "    }\n",
              "\n",
              "    .colab-df-convert:hover {\n",
              "      background-color: #E2EBFA;\n",
              "      box-shadow: 0px 1px 2px rgba(60, 64, 67, 0.3), 0px 1px 3px 1px rgba(60, 64, 67, 0.15);\n",
              "      fill: #174EA6;\n",
              "    }\n",
              "\n",
              "    [theme=dark] .colab-df-convert {\n",
              "      background-color: #3B4455;\n",
              "      fill: #D2E3FC;\n",
              "    }\n",
              "\n",
              "    [theme=dark] .colab-df-convert:hover {\n",
              "      background-color: #434B5C;\n",
              "      box-shadow: 0px 1px 3px 1px rgba(0, 0, 0, 0.15);\n",
              "      filter: drop-shadow(0px 1px 2px rgba(0, 0, 0, 0.3));\n",
              "      fill: #FFFFFF;\n",
              "    }\n",
              "  </style>\n",
              "\n",
              "      <script>\n",
              "        const buttonEl =\n",
              "          document.querySelector('#df-331ea31c-0577-45ae-a289-2cd1815a4d10 button.colab-df-convert');\n",
              "        buttonEl.style.display =\n",
              "          google.colab.kernel.accessAllowed ? 'block' : 'none';\n",
              "\n",
              "        async function convertToInteractive(key) {\n",
              "          const element = document.querySelector('#df-331ea31c-0577-45ae-a289-2cd1815a4d10');\n",
              "          const dataTable =\n",
              "            await google.colab.kernel.invokeFunction('convertToInteractive',\n",
              "                                                     [key], {});\n",
              "          if (!dataTable) return;\n",
              "\n",
              "          const docLinkHtml = 'Like what you see? Visit the ' +\n",
              "            '<a target=\"_blank\" href=https://colab.research.google.com/notebooks/data_table.ipynb>data table notebook</a>'\n",
              "            + ' to learn more about interactive tables.';\n",
              "          element.innerHTML = '';\n",
              "          dataTable['output_type'] = 'display_data';\n",
              "          await google.colab.output.renderOutput(dataTable, element);\n",
              "          const docLink = document.createElement('div');\n",
              "          docLink.innerHTML = docLinkHtml;\n",
              "          element.appendChild(docLink);\n",
              "        }\n",
              "      </script>\n",
              "    </div>\n",
              "  </div>\n",
              "  "
            ]
          },
          "metadata": {},
          "execution_count": 88
        }
      ]
    },
    {
      "cell_type": "markdown",
      "source": [
        "## 2-VAZIFA: Qaysi ustunlarda nechtadan null qiymatlar borligini aniqlang\n",
        "### - o'sha ustunlardagi kataklarni 0 qiymati bilan to'ldiring.\n"
      ],
      "metadata": {
        "id": "rOEiPT855hfG"
      }
    },
    {
      "cell_type": "code",
      "source": [
        "# JAVOBNI SHUYERGA YOZING\n",
        "data.fillna(0)\n",
        "data.sample(10)"
      ],
      "metadata": {
        "id": "iyDLfCeK6Axw",
        "outputId": "1bc6dd84-b908-425f-ef57-b8c554b54be0",
        "colab": {
          "base_uri": "https://localhost:8080/",
          "height": 630
        }
      },
      "execution_count": null,
      "outputs": [
        {
          "output_type": "execute_result",
          "data": {
            "text/plain": [
              "      Age Attrition     BusinessTravel              Department  \\\n",
              "3118   33       Yes      Travel_Rarely                   Sales   \n",
              "1210   49        No  Travel_Frequently  Research & Development   \n",
              "1087   35        No      Travel_Rarely                   Sales   \n",
              "1659   35        No      Travel_Rarely  Research & Development   \n",
              "2601   31        No  Travel_Frequently  Research & Development   \n",
              "1830   25        No      Travel_Rarely  Research & Development   \n",
              "931    33        No      Travel_Rarely  Research & Development   \n",
              "3778   40        No      Travel_Rarely                   Sales   \n",
              "3596   55        No         Non-Travel  Research & Development   \n",
              "4164   31        No      Travel_Rarely  Research & Development   \n",
              "\n",
              "      DistanceFromHome  Education    EducationField  Gender  JobLevel  \\\n",
              "3118                 5          4         Marketing    Male         2   \n",
              "1210                 6          1           Medical    Male         3   \n",
              "1087                 2          1  Technical Degree    Male         2   \n",
              "1659                22          3           Medical  Female         1   \n",
              "2601                25          5  Technical Degree  Female         2   \n",
              "1830                17          3           Medical    Male         1   \n",
              "931                  7          3           Medical    Male         5   \n",
              "3778                 5          5     Life Sciences    Male         1   \n",
              "3596                27          3     Life Sciences  Female         2   \n",
              "4164                 2          2           Medical    Male         2   \n",
              "\n",
              "                        JobRole  ... MonthlyIncome  NumCompaniesWorked  \\\n",
              "3118          Research Director  ...         66520                 7.0   \n",
              "1210  Healthcare Representative  ...         29960                 2.0   \n",
              "1087      Laboratory Technician  ...         18590                 0.0   \n",
              "1659       Sales Representative  ...         29660                 9.0   \n",
              "2601            Human Resources  ...        180610                 1.0   \n",
              "1830      Laboratory Technician  ...        199260                 7.0   \n",
              "931             Sales Executive  ...        109990                 1.0   \n",
              "3778     Manufacturing Director  ...         52310                 1.0   \n",
              "3596                    Manager  ...         48590                 1.0   \n",
              "4164      Laboratory Technician  ...         39750                 1.0   \n",
              "\n",
              "      Over18 PercentSalaryHike  StockOptionLevel  TotalWorkingYears  \\\n",
              "3118       Y                25                 0                8.0   \n",
              "1210       Y                18                 1               17.0   \n",
              "1087       Y                25                 1                4.0   \n",
              "1659       Y                18                 0               15.0   \n",
              "2601       Y                14                 1               10.0   \n",
              "1830       Y                11                 3                6.0   \n",
              "931        Y                18                 3                6.0   \n",
              "3778       Y                12                 2               21.0   \n",
              "3596       Y                24                 1               34.0   \n",
              "4164       Y                15                 1                5.0   \n",
              "\n",
              "      TrainingTimesLastYear  YearsAtCompany  YearsSinceLastPromotion  \\\n",
              "3118                      5               4                        1   \n",
              "1210                      2               9                        0   \n",
              "1087                      2               3                        0   \n",
              "1659                      2              11                        6   \n",
              "2601                      2              10                        8   \n",
              "1830                      5               4                        0   \n",
              "931                       3               6                        0   \n",
              "3778                      4              21                        7   \n",
              "3596                      3              33                       15   \n",
              "4164                      3               5                        4   \n",
              "\n",
              "      YearsWithCurrManager  \n",
              "3118                     3  \n",
              "1210                     8  \n",
              "1087                     2  \n",
              "1659                     9  \n",
              "2601                     7  \n",
              "1830                     1  \n",
              "931                      4  \n",
              "3778                     7  \n",
              "3596                     0  \n",
              "4164                     3  \n",
              "\n",
              "[10 rows x 21 columns]"
            ],
            "text/html": [
              "\n",
              "  <div id=\"df-9b23aa27-6086-4608-adb1-731fe9858bb8\">\n",
              "    <div class=\"colab-df-container\">\n",
              "      <div>\n",
              "<style scoped>\n",
              "    .dataframe tbody tr th:only-of-type {\n",
              "        vertical-align: middle;\n",
              "    }\n",
              "\n",
              "    .dataframe tbody tr th {\n",
              "        vertical-align: top;\n",
              "    }\n",
              "\n",
              "    .dataframe thead th {\n",
              "        text-align: right;\n",
              "    }\n",
              "</style>\n",
              "<table border=\"1\" class=\"dataframe\">\n",
              "  <thead>\n",
              "    <tr style=\"text-align: right;\">\n",
              "      <th></th>\n",
              "      <th>Age</th>\n",
              "      <th>Attrition</th>\n",
              "      <th>BusinessTravel</th>\n",
              "      <th>Department</th>\n",
              "      <th>DistanceFromHome</th>\n",
              "      <th>Education</th>\n",
              "      <th>EducationField</th>\n",
              "      <th>Gender</th>\n",
              "      <th>JobLevel</th>\n",
              "      <th>JobRole</th>\n",
              "      <th>...</th>\n",
              "      <th>MonthlyIncome</th>\n",
              "      <th>NumCompaniesWorked</th>\n",
              "      <th>Over18</th>\n",
              "      <th>PercentSalaryHike</th>\n",
              "      <th>StockOptionLevel</th>\n",
              "      <th>TotalWorkingYears</th>\n",
              "      <th>TrainingTimesLastYear</th>\n",
              "      <th>YearsAtCompany</th>\n",
              "      <th>YearsSinceLastPromotion</th>\n",
              "      <th>YearsWithCurrManager</th>\n",
              "    </tr>\n",
              "  </thead>\n",
              "  <tbody>\n",
              "    <tr>\n",
              "      <th>3118</th>\n",
              "      <td>33</td>\n",
              "      <td>Yes</td>\n",
              "      <td>Travel_Rarely</td>\n",
              "      <td>Sales</td>\n",
              "      <td>5</td>\n",
              "      <td>4</td>\n",
              "      <td>Marketing</td>\n",
              "      <td>Male</td>\n",
              "      <td>2</td>\n",
              "      <td>Research Director</td>\n",
              "      <td>...</td>\n",
              "      <td>66520</td>\n",
              "      <td>7.0</td>\n",
              "      <td>Y</td>\n",
              "      <td>25</td>\n",
              "      <td>0</td>\n",
              "      <td>8.0</td>\n",
              "      <td>5</td>\n",
              "      <td>4</td>\n",
              "      <td>1</td>\n",
              "      <td>3</td>\n",
              "    </tr>\n",
              "    <tr>\n",
              "      <th>1210</th>\n",
              "      <td>49</td>\n",
              "      <td>No</td>\n",
              "      <td>Travel_Frequently</td>\n",
              "      <td>Research &amp; Development</td>\n",
              "      <td>6</td>\n",
              "      <td>1</td>\n",
              "      <td>Medical</td>\n",
              "      <td>Male</td>\n",
              "      <td>3</td>\n",
              "      <td>Healthcare Representative</td>\n",
              "      <td>...</td>\n",
              "      <td>29960</td>\n",
              "      <td>2.0</td>\n",
              "      <td>Y</td>\n",
              "      <td>18</td>\n",
              "      <td>1</td>\n",
              "      <td>17.0</td>\n",
              "      <td>2</td>\n",
              "      <td>9</td>\n",
              "      <td>0</td>\n",
              "      <td>8</td>\n",
              "    </tr>\n",
              "    <tr>\n",
              "      <th>1087</th>\n",
              "      <td>35</td>\n",
              "      <td>No</td>\n",
              "      <td>Travel_Rarely</td>\n",
              "      <td>Sales</td>\n",
              "      <td>2</td>\n",
              "      <td>1</td>\n",
              "      <td>Technical Degree</td>\n",
              "      <td>Male</td>\n",
              "      <td>2</td>\n",
              "      <td>Laboratory Technician</td>\n",
              "      <td>...</td>\n",
              "      <td>18590</td>\n",
              "      <td>0.0</td>\n",
              "      <td>Y</td>\n",
              "      <td>25</td>\n",
              "      <td>1</td>\n",
              "      <td>4.0</td>\n",
              "      <td>2</td>\n",
              "      <td>3</td>\n",
              "      <td>0</td>\n",
              "      <td>2</td>\n",
              "    </tr>\n",
              "    <tr>\n",
              "      <th>1659</th>\n",
              "      <td>35</td>\n",
              "      <td>No</td>\n",
              "      <td>Travel_Rarely</td>\n",
              "      <td>Research &amp; Development</td>\n",
              "      <td>22</td>\n",
              "      <td>3</td>\n",
              "      <td>Medical</td>\n",
              "      <td>Female</td>\n",
              "      <td>1</td>\n",
              "      <td>Sales Representative</td>\n",
              "      <td>...</td>\n",
              "      <td>29660</td>\n",
              "      <td>9.0</td>\n",
              "      <td>Y</td>\n",
              "      <td>18</td>\n",
              "      <td>0</td>\n",
              "      <td>15.0</td>\n",
              "      <td>2</td>\n",
              "      <td>11</td>\n",
              "      <td>6</td>\n",
              "      <td>9</td>\n",
              "    </tr>\n",
              "    <tr>\n",
              "      <th>2601</th>\n",
              "      <td>31</td>\n",
              "      <td>No</td>\n",
              "      <td>Travel_Frequently</td>\n",
              "      <td>Research &amp; Development</td>\n",
              "      <td>25</td>\n",
              "      <td>5</td>\n",
              "      <td>Technical Degree</td>\n",
              "      <td>Female</td>\n",
              "      <td>2</td>\n",
              "      <td>Human Resources</td>\n",
              "      <td>...</td>\n",
              "      <td>180610</td>\n",
              "      <td>1.0</td>\n",
              "      <td>Y</td>\n",
              "      <td>14</td>\n",
              "      <td>1</td>\n",
              "      <td>10.0</td>\n",
              "      <td>2</td>\n",
              "      <td>10</td>\n",
              "      <td>8</td>\n",
              "      <td>7</td>\n",
              "    </tr>\n",
              "    <tr>\n",
              "      <th>1830</th>\n",
              "      <td>25</td>\n",
              "      <td>No</td>\n",
              "      <td>Travel_Rarely</td>\n",
              "      <td>Research &amp; Development</td>\n",
              "      <td>17</td>\n",
              "      <td>3</td>\n",
              "      <td>Medical</td>\n",
              "      <td>Male</td>\n",
              "      <td>1</td>\n",
              "      <td>Laboratory Technician</td>\n",
              "      <td>...</td>\n",
              "      <td>199260</td>\n",
              "      <td>7.0</td>\n",
              "      <td>Y</td>\n",
              "      <td>11</td>\n",
              "      <td>3</td>\n",
              "      <td>6.0</td>\n",
              "      <td>5</td>\n",
              "      <td>4</td>\n",
              "      <td>0</td>\n",
              "      <td>1</td>\n",
              "    </tr>\n",
              "    <tr>\n",
              "      <th>931</th>\n",
              "      <td>33</td>\n",
              "      <td>No</td>\n",
              "      <td>Travel_Rarely</td>\n",
              "      <td>Research &amp; Development</td>\n",
              "      <td>7</td>\n",
              "      <td>3</td>\n",
              "      <td>Medical</td>\n",
              "      <td>Male</td>\n",
              "      <td>5</td>\n",
              "      <td>Sales Executive</td>\n",
              "      <td>...</td>\n",
              "      <td>109990</td>\n",
              "      <td>1.0</td>\n",
              "      <td>Y</td>\n",
              "      <td>18</td>\n",
              "      <td>3</td>\n",
              "      <td>6.0</td>\n",
              "      <td>3</td>\n",
              "      <td>6</td>\n",
              "      <td>0</td>\n",
              "      <td>4</td>\n",
              "    </tr>\n",
              "    <tr>\n",
              "      <th>3778</th>\n",
              "      <td>40</td>\n",
              "      <td>No</td>\n",
              "      <td>Travel_Rarely</td>\n",
              "      <td>Sales</td>\n",
              "      <td>5</td>\n",
              "      <td>5</td>\n",
              "      <td>Life Sciences</td>\n",
              "      <td>Male</td>\n",
              "      <td>1</td>\n",
              "      <td>Manufacturing Director</td>\n",
              "      <td>...</td>\n",
              "      <td>52310</td>\n",
              "      <td>1.0</td>\n",
              "      <td>Y</td>\n",
              "      <td>12</td>\n",
              "      <td>2</td>\n",
              "      <td>21.0</td>\n",
              "      <td>4</td>\n",
              "      <td>21</td>\n",
              "      <td>7</td>\n",
              "      <td>7</td>\n",
              "    </tr>\n",
              "    <tr>\n",
              "      <th>3596</th>\n",
              "      <td>55</td>\n",
              "      <td>No</td>\n",
              "      <td>Non-Travel</td>\n",
              "      <td>Research &amp; Development</td>\n",
              "      <td>27</td>\n",
              "      <td>3</td>\n",
              "      <td>Life Sciences</td>\n",
              "      <td>Female</td>\n",
              "      <td>2</td>\n",
              "      <td>Manager</td>\n",
              "      <td>...</td>\n",
              "      <td>48590</td>\n",
              "      <td>1.0</td>\n",
              "      <td>Y</td>\n",
              "      <td>24</td>\n",
              "      <td>1</td>\n",
              "      <td>34.0</td>\n",
              "      <td>3</td>\n",
              "      <td>33</td>\n",
              "      <td>15</td>\n",
              "      <td>0</td>\n",
              "    </tr>\n",
              "    <tr>\n",
              "      <th>4164</th>\n",
              "      <td>31</td>\n",
              "      <td>No</td>\n",
              "      <td>Travel_Rarely</td>\n",
              "      <td>Research &amp; Development</td>\n",
              "      <td>2</td>\n",
              "      <td>2</td>\n",
              "      <td>Medical</td>\n",
              "      <td>Male</td>\n",
              "      <td>2</td>\n",
              "      <td>Laboratory Technician</td>\n",
              "      <td>...</td>\n",
              "      <td>39750</td>\n",
              "      <td>1.0</td>\n",
              "      <td>Y</td>\n",
              "      <td>15</td>\n",
              "      <td>1</td>\n",
              "      <td>5.0</td>\n",
              "      <td>3</td>\n",
              "      <td>5</td>\n",
              "      <td>4</td>\n",
              "      <td>3</td>\n",
              "    </tr>\n",
              "  </tbody>\n",
              "</table>\n",
              "<p>10 rows × 21 columns</p>\n",
              "</div>\n",
              "      <button class=\"colab-df-convert\" onclick=\"convertToInteractive('df-9b23aa27-6086-4608-adb1-731fe9858bb8')\"\n",
              "              title=\"Convert this dataframe to an interactive table.\"\n",
              "              style=\"display:none;\">\n",
              "        \n",
              "  <svg xmlns=\"http://www.w3.org/2000/svg\" height=\"24px\"viewBox=\"0 0 24 24\"\n",
              "       width=\"24px\">\n",
              "    <path d=\"M0 0h24v24H0V0z\" fill=\"none\"/>\n",
              "    <path d=\"M18.56 5.44l.94 2.06.94-2.06 2.06-.94-2.06-.94-.94-2.06-.94 2.06-2.06.94zm-11 1L8.5 8.5l.94-2.06 2.06-.94-2.06-.94L8.5 2.5l-.94 2.06-2.06.94zm10 10l.94 2.06.94-2.06 2.06-.94-2.06-.94-.94-2.06-.94 2.06-2.06.94z\"/><path d=\"M17.41 7.96l-1.37-1.37c-.4-.4-.92-.59-1.43-.59-.52 0-1.04.2-1.43.59L10.3 9.45l-7.72 7.72c-.78.78-.78 2.05 0 2.83L4 21.41c.39.39.9.59 1.41.59.51 0 1.02-.2 1.41-.59l7.78-7.78 2.81-2.81c.8-.78.8-2.07 0-2.86zM5.41 20L4 18.59l7.72-7.72 1.47 1.35L5.41 20z\"/>\n",
              "  </svg>\n",
              "      </button>\n",
              "      \n",
              "  <style>\n",
              "    .colab-df-container {\n",
              "      display:flex;\n",
              "      flex-wrap:wrap;\n",
              "      gap: 12px;\n",
              "    }\n",
              "\n",
              "    .colab-df-convert {\n",
              "      background-color: #E8F0FE;\n",
              "      border: none;\n",
              "      border-radius: 50%;\n",
              "      cursor: pointer;\n",
              "      display: none;\n",
              "      fill: #1967D2;\n",
              "      height: 32px;\n",
              "      padding: 0 0 0 0;\n",
              "      width: 32px;\n",
              "    }\n",
              "\n",
              "    .colab-df-convert:hover {\n",
              "      background-color: #E2EBFA;\n",
              "      box-shadow: 0px 1px 2px rgba(60, 64, 67, 0.3), 0px 1px 3px 1px rgba(60, 64, 67, 0.15);\n",
              "      fill: #174EA6;\n",
              "    }\n",
              "\n",
              "    [theme=dark] .colab-df-convert {\n",
              "      background-color: #3B4455;\n",
              "      fill: #D2E3FC;\n",
              "    }\n",
              "\n",
              "    [theme=dark] .colab-df-convert:hover {\n",
              "      background-color: #434B5C;\n",
              "      box-shadow: 0px 1px 3px 1px rgba(0, 0, 0, 0.15);\n",
              "      filter: drop-shadow(0px 1px 2px rgba(0, 0, 0, 0.3));\n",
              "      fill: #FFFFFF;\n",
              "    }\n",
              "  </style>\n",
              "\n",
              "      <script>\n",
              "        const buttonEl =\n",
              "          document.querySelector('#df-9b23aa27-6086-4608-adb1-731fe9858bb8 button.colab-df-convert');\n",
              "        buttonEl.style.display =\n",
              "          google.colab.kernel.accessAllowed ? 'block' : 'none';\n",
              "\n",
              "        async function convertToInteractive(key) {\n",
              "          const element = document.querySelector('#df-9b23aa27-6086-4608-adb1-731fe9858bb8');\n",
              "          const dataTable =\n",
              "            await google.colab.kernel.invokeFunction('convertToInteractive',\n",
              "                                                     [key], {});\n",
              "          if (!dataTable) return;\n",
              "\n",
              "          const docLinkHtml = 'Like what you see? Visit the ' +\n",
              "            '<a target=\"_blank\" href=https://colab.research.google.com/notebooks/data_table.ipynb>data table notebook</a>'\n",
              "            + ' to learn more about interactive tables.';\n",
              "          element.innerHTML = '';\n",
              "          dataTable['output_type'] = 'display_data';\n",
              "          await google.colab.output.renderOutput(dataTable, element);\n",
              "          const docLink = document.createElement('div');\n",
              "          docLink.innerHTML = docLinkHtml;\n",
              "          element.appendChild(docLink);\n",
              "        }\n",
              "      </script>\n",
              "    </div>\n",
              "  </div>\n",
              "  "
            ]
          },
          "metadata": {},
          "execution_count": 89
        }
      ]
    },
    {
      "cell_type": "markdown",
      "source": [
        "## 3-VAZIFA: Barcha ustunlardagi o'zaro korrelatsiyasini aniqlang\n",
        "### - hamda heatmap orqali 16:10 o'lchamda ekranga chiqaring \n"
      ],
      "metadata": {
        "id": "pnbIUjWQ6crL"
      }
    },
    {
      "cell_type": "code",
      "source": [
        "datacorr=data.corr()"
      ],
      "metadata": {
        "id": "6rLvg1vTUXkx"
      },
      "execution_count": null,
      "outputs": []
    },
    {
      "cell_type": "code",
      "source": [
        "# JAVOBNI SHUYERGA YOZING\n",
        "plt.figure(figsize=(16,10))\n",
        "sns.heatmap(data=datacorr)\n",
        "plt.show()"
      ],
      "metadata": {
        "id": "twSCy4Re6djN",
        "outputId": "8fd57bda-0a97-4def-f6c8-537c709b4122",
        "colab": {
          "base_uri": "https://localhost:8080/",
          "height": 727
        }
      },
      "execution_count": null,
      "outputs": [
        {
          "output_type": "display_data",
          "data": {
            "text/plain": [
              "<Figure size 1152x720 with 2 Axes>"
            ],
            "image/png": "[encoded data removed]"
          },
          "metadata": {}
        }
      ]
    },
    {
      "cell_type": "markdown",
      "source": [
        "## 4-VAZIFA: Dataset uzunligini toping, ya'ni umumiy nechta qator(row) dan tashkil topgan\n",
        "#### - Attrition(ishdan bo'shaganmi) ustunidagi \"Yes\" deb javob berilgan qatorlar soni\n",
        "#### - Attrition(ishdan bo'shaganmi) ustunidagi \"No\" deb javob berilgan qatorlar soni\n",
        "#### - Attrition(ishdan bo'shaganmi) ustunidagi \"Yes\" deb javob berilgan qatorlar soni umumiy datasetning necha fozini tashkil etadi\n",
        "#### - Attrition(ishdan bo'shaganmi) ustunidagi \"No\" deb javob berilgan qatorlar soni umumiy datasetning necha fozini tashkil etadi\n",
        "\n",
        "**Hint:** har birini ekranga chiqarish uchun print dan foydalaning\n",
        "\n",
        "\n",
        "<a href=\"https://imgbb.com/\"><img src=\"https://i.ibb.co/28VjRyB/img.png\" alt=\"img\" border=\"0\"></a>"
      ],
      "metadata": {
        "id": "RYu99y9T8XrY"
      }
    },
    {
      "cell_type": "code",
      "source": [
        "# JAVOBNI SHUYERGA YOZING\n",
        "print(data.shape[0])\n",
        "h = ['Yes']\n",
        "y = ['No']\n",
        "print(len(data[data[\"Attrition\"].isin(h)]))\n",
        "print(len(data[data[\"Attrition\"].isin(y)]))\n",
        "print(f'Yes:{len(data[data[\"Attrition\"].isin(h)])/len(data)*100}%')\n",
        "print(f'No:{len(data[data[\"Attrition\"].isin(y)])/len(data)*100}%')"
      ],
      "metadata": {
        "id": "7sHkGw4u8Y6n",
        "colab": {
          "base_uri": "https://localhost:8080/"
        },
        "outputId": "fada7009-044d-482c-9224-4e2f734b37a6"
      },
      "execution_count": null,
      "outputs": [
        {
          "output_type": "stream",
          "name": "stdout",
          "text": [
            "4410\n",
            "711\n",
            "3699\n",
            "Yes:16.122448979591837%\n",
            "No:83.87755102040816%\n"
          ]
        }
      ]
    },
    {
      "cell_type": "markdown",
      "source": [
        "## 5-VAZIFA: Countplot() orqali Attrition ustunidagi ma'lumotlarni \"Yes\" \"No\" soniga ko'ra, ustunli grafik shaklida tasvirlang\n",
        "\n",
        "<a href=\"https://imgbb.com/\"><img src=\"https://i.ibb.co/Px9Bn6J/plt.png\" alt=\"plt\" border=\"0\"></a>"
      ],
      "metadata": {
        "id": "wcqV7Cfm9ssp"
      }
    },
    {
      "cell_type": "code",
      "source": [
        "# JAVOBNI SHUYERGA YOZING\n",
        "sns.countplot(data=data, x='Attrition')\n",
        "plt.show()"
      ],
      "metadata": {
        "id": "dTS-HrvM9tdg",
        "outputId": "c8b8addb-6622-472d-9d30-fde0b035775a",
        "colab": {
          "base_uri": "https://localhost:8080/",
          "height": 285
        }
      },
      "execution_count": null,
      "outputs": [
        {
          "output_type": "display_data",
          "data": {
            "text/plain": [
              "<Figure size 432x288 with 1 Axes>"
            ],
            "image/png": "[encoded data removed]"
          },
          "metadata": {}
        }
      ]
    },
    {
      "cell_type": "markdown",
      "source": [
        "## 6-VAZIFA: Countplot() orqali Attrition ustunidagi ma'lumotlarni \"Yes\" \"No\" soniga ko'ra hamda gender ustuniga bo'lingan holda ustunli grafikda tasvirlang.\n",
        "\n",
        "<a href=\"https://imgbb.com/\"><img src=\"https://i.ibb.co/R7BC8z2/bygender.png\" alt=\"bygender\" border=\"0\"></a>"
      ],
      "metadata": {
        "id": "U8C6d9GuIJus"
      }
    },
    {
      "cell_type": "code",
      "source": [
        "# JAVOBNI SHUYERGA YOZING\n",
        "sns.countplot(data=data, x='Attrition', hue='Gender')\n",
        "plt.show()"
      ],
      "metadata": {
        "id": "IHuArXLLILEB",
        "outputId": "a4a2519d-54d3-4775-bd52-40236d9826af",
        "colab": {
          "base_uri": "https://localhost:8080/",
          "height": 285
        }
      },
      "execution_count": null,
      "outputs": [
        {
          "output_type": "display_data",
          "data": {
            "text/plain": [
              "<Figure size 432x288 with 1 Axes>"
            ],
            "image/png": "[encoded data removed]"
          },
          "metadata": {}
        }
      ]
    },
    {
      "cell_type": "markdown",
      "source": [
        "## 7-VAZIFA: Countplot() orqali Attrition ustunidagi ma'lumotlarni \"Yes\" \"No\" soniga ko'ra hamda jobLevel ustuniga bo'lingan holda ustunli grafikda tasvirlang.\n",
        "\n",
        "<a href=\"https://imgbb.com/\"><img src=\"https://i.ibb.co/kmzVfDK/byjoblevel.png\" alt=\"byjoblevel\" border=\"0\"></a><br /><a target='_blank' href='https://the-crosswordsolver.com/tobagos-island-neighbor-8-letters'></a><br />"
      ],
      "metadata": {
        "id": "2tAmAxOXKCa0"
      }
    },
    {
      "cell_type": "code",
      "source": [
        "# JAVOBNI SHUYERGA YOZING\n",
        "sns.countplot(data=data, x='Attrition', hue='JobLevel')\n",
        "plt.show()"
      ],
      "metadata": {
        "id": "P0OEMc9UKvgP",
        "outputId": "ca6e1ebf-9af5-447a-ed5c-150623e8a745",
        "colab": {
          "base_uri": "https://localhost:8080/",
          "height": 285
        }
      },
      "execution_count": null,
      "outputs": [
        {
          "output_type": "display_data",
          "data": {
            "text/plain": [
              "<Figure size 432x288 with 1 Axes>"
            ],
            "image/png": "[encoded data removed]"
          },
          "metadata": {}
        }
      ]
    },
    {
      "cell_type": "markdown",
      "source": [
        "## 8-VAZIFA: Pie chart orqali \"Attrition\" (ishdan bo'shaganmi) ustunidagi Yes va No qiymatlariga ko'ra grafikni chiqaring\n",
        "\n",
        "<a href=\"https://imgbb.com/\"><img src=\"https://i.ibb.co/LZ4cCKb/PieChart.png\" alt=\"PieChart\" border=\"0\"></a><br /><a target='_blank' href='https://the-crosswordsolver.com/netman-smith-4-letters'></a><br />"
      ],
      "metadata": {
        "id": "vKqBcTPhL3-3"
      }
    },
    {
      "cell_type": "code",
      "source": [
        "# JAVOBNI SHUYERGA YOZING\n",
        "labels = ['Yes','No']\n",
        " \n",
        "data = [750,3600]\n",
        " \n",
        "# Creating plot\n",
        "plt.pie(data, labels = labels)\n",
        " \n",
        "# show plot\n",
        "plt.show()\n",
        "\n"
      ],
      "metadata": {
        "id": "_m1tHdofL7RS",
        "outputId": "1adfb240-10e5-4650-f2f5-6dcd16b195ec",
        "colab": {
          "base_uri": "https://localhost:8080/",
          "height": 248
        }
      },
      "execution_count": null,
      "outputs": [
        {
          "output_type": "display_data",
          "data": {
            "text/plain": [
              "<Figure size 432x288 with 1 Axes>"
            ],
            "image/png": "[encoded data removed]"
          },
          "metadata": {}
        }
      ]
    },
    {
      "cell_type": "markdown",
      "source": [
        "## 9-VAZIFA:  Crosstab orqali \"Attrition\" (ishdan bo'shaganmi) ustunidagi Yes va No qiymatlari hamda Department ustuniga ko'ra grafikni chiqaring\n",
        "\n",
        "<a href=\"https://imgbb.com/\"><img src=\"https://i.ibb.co/g4KgG6q/depart.png\" alt=\"depart\" border=\"0\"></a>"
      ],
      "metadata": {
        "id": "kEEl9lmJWCfi"
      }
    },
    {
      "cell_type": "code",
      "source": [
        "# JAVOBNI SHUYERGA YOZING\n",
        "pd.crosstab(data['Department'],data['Attrition']).plot(kind='bar')\n",
        "plt.show()"
      ],
      "metadata": {
        "id": "7xSeffiDWDd5",
        "outputId": "f1d0e5d8-4825-4e14-a2f1-fb67db18e01a",
        "colab": {
          "base_uri": "https://localhost:8080/",
          "height": 416
        }
      },
      "execution_count": null,
      "outputs": [
        {
          "output_type": "display_data",
          "data": {
            "text/plain": [
              "<Figure size 432x288 with 1 Axes>"
            ],
            "image/png": "[encoded data removed]"
          },
          "metadata": {}
        }
      ]
    },
    {
      "cell_type": "markdown",
      "source": [
        "## 10-VAZIFA:  Seaborn kutubxonasining Distribution(taqsimot) imkoniyatidan foydalanib, Attrition(ishdan bo'shaganmi) ustunini MonthlyIncome ustuniga solishtirilganligini grafigini ekranga chiqaring.\n",
        "\n",
        "\n",
        "**Hint: ** Bu orqali biz ishchining oylik maoshini uning ishdan bo'shab ketishiga bog'liq yoki bog'liq emasligini topamiz.\n",
        "\n",
        "<a href=\"https://imgbb.com/\"><img src=\"https://i.ibb.co/zQc4FVZ/displot.png\" alt=\"displot\" border=\"0\"></a><br /><a target='_blank' href='https://500pxdownload.com/'></a><br />"
      ],
      "metadata": {
        "id": "Y3vs7JJIXEgf"
      }
    },
    {
      "cell_type": "code",
      "source": [
        "# JAVOBNI SHUYERGA YOZING\n",
        "sns.displot(data=data,x='MonthlyIncome', hue='Attrition')\n",
        "plt.show()"
      ],
      "metadata": {
        "id": "xbF-fJq7XFTf",
        "outputId": "02fc5536-28a7-4a5e-ad5e-0565f6f89aa1",
        "colab": {
          "base_uri": "https://localhost:8080/",
          "height": 365
        }
      },
      "execution_count": null,
      "outputs": [
        {
          "output_type": "display_data",
          "data": {
            "text/plain": [
              "<Figure size 417.675x360 with 1 Axes>"
            ],
            "image/png": "[encoded data removed]"
          },
          "metadata": {}
        }
      ]
    },
    {
      "cell_type": "code",
      "source": [],
      "metadata": {
        "id": "yjxlFKBk4sf3"
      },
      "execution_count": null,
      "outputs": []
    }
  ]
}